{
  "cells": [
    {
      "cell_type": "markdown",
      "metadata": {
        "id": "X9V_fpA4w-rS"
      },
      "source": [
        "## **Data Retrieval from TCGA, Pre-processing, Differential Gene Expression (DGE) Analysis, and Functional Enrichment Analysis**  \n",
        "**Cancer type :** TCGA-COAD (Colon Adenocarcinoma)"
      ]
    },
    {
      "cell_type": "markdown",
      "metadata": {
        "id": "D7L-xmCSxzuo"
      },
      "source": [
        "### **Data Retrieval from TCGA using TCGAbiolinks**"
      ]
    },
    {
      "cell_type": "code",
      "execution_count": null,
      "metadata": {
        "colab": {
          "base_uri": "https://localhost:8080/"
        },
        "id": "pjnYIQQ37RaN",
        "outputId": "f4278ab0-87df-42b0-bb8f-da7eeaa1620d",
        "collapsed": true
      },
      "outputs": [
        {
          "output_type": "stream",
          "name": "stderr",
          "text": [
            "Installing package into ‘/usr/local/lib/R/site-library’\n",
            "(as ‘lib’ is unspecified)\n",
            "\n",
            "'getOption(\"repos\")' replaces Bioconductor standard repositories, see\n",
            "'help(\"repositories\", package = \"BiocManager\")' for details.\n",
            "Replacement repositories:\n",
            "    CRAN: https://cran.rstudio.com\n",
            "\n",
            "Bioconductor version 3.19 (BiocManager 1.30.25), R 4.4.1 (2024-06-14)\n",
            "\n",
            "Installing package(s) 'BiocVersion', 'TCGAbiolinks'\n",
            "\n",
            "also installing the dependencies ‘plogr’, ‘png’, ‘Biostrings’, ‘RSQLite’, ‘KEGGREST’, ‘filelock’, ‘UCSC.utils’, ‘GenomeInfoDbData’, ‘zlibbioc’, ‘matrixStats’, ‘abind’, ‘SparseArray’, ‘AnnotationDbi’, ‘BiocFileCache’, ‘BiocGenerics’, ‘GenomeInfoDb’, ‘XVector’, ‘R.oo’, ‘R.methodsS3’, ‘MatrixGenerics’, ‘Biobase’, ‘S4Arrays’, ‘DelayedArray’, ‘downloader’, ‘biomaRt’, ‘GenomicRanges’, ‘XML’, ‘plyr’, ‘IRanges’, ‘S4Vectors’, ‘R.utils’, ‘SummarizedExperiment’, ‘TCGAbiolinksGUI.data’\n",
            "\n",
            "\n",
            "'getOption(\"repos\")' replaces Bioconductor standard repositories, see\n",
            "'help(\"repositories\", package = \"BiocManager\")' for details.\n",
            "Replacement repositories:\n",
            "    CRAN: https://cran.rstudio.com\n",
            "\n",
            "Bioconductor version 3.19 (BiocManager 1.30.25), R 4.4.1 (2024-06-14)\n",
            "\n",
            "Installing package(s) 'edgeR'\n",
            "\n",
            "also installing the dependencies ‘statmod’, ‘limma’, ‘locfit’\n",
            "\n",
            "\n",
            "'getOption(\"repos\")' replaces Bioconductor standard repositories, see\n",
            "'help(\"repositories\", package = \"BiocManager\")' for details.\n",
            "Replacement repositories:\n",
            "    CRAN: https://cran.rstudio.com\n",
            "\n",
            "Bioconductor version 3.19 (BiocManager 1.30.25), R 4.4.1 (2024-06-14)\n",
            "\n",
            "Installing package(s) 'EDASeq'\n",
            "\n",
            "also installing the dependencies ‘formatR’, ‘lambda.r’, ‘futile.options’, ‘deldir’, ‘RcppEigen’, ‘RCurl’, ‘rjson’, ‘futile.logger’, ‘snow’, ‘BH’, ‘jpeg’, ‘interp’, ‘BiocIO’, ‘restfulr’, ‘BiocParallel’, ‘GenomicAlignments’, ‘pwalign’, ‘hwriter’, ‘latticeExtra’, ‘Rhtslib’, ‘bitops’, ‘rtracklayer’, ‘ShortRead’, ‘aroma.light’, ‘Rsamtools’, ‘GenomicFeatures’\n",
            "\n",
            "\n",
            "'getOption(\"repos\")' replaces Bioconductor standard repositories, see\n",
            "'help(\"repositories\", package = \"BiocManager\")' for details.\n",
            "Replacement repositories:\n",
            "    CRAN: https://cran.rstudio.com\n",
            "\n",
            "Bioconductor version 3.19 (BiocManager 1.30.25), R 4.4.1 (2024-06-14)\n",
            "\n",
            "Warning message:\n",
            "“package(s) not installed when version(s) same as or greater than current; use\n",
            "  `force = TRUE` to re-install: 'limma'”\n",
            "'getOption(\"repos\")' replaces Bioconductor standard repositories, see\n",
            "'help(\"repositories\", package = \"BiocManager\")' for details.\n",
            "Replacement repositories:\n",
            "    CRAN: https://cran.rstudio.com\n",
            "\n",
            "Bioconductor version 3.19 (BiocManager 1.30.25), R 4.4.1 (2024-06-14)\n",
            "\n",
            "Installing package(s) 'sesameData'\n",
            "\n",
            "also installing the dependencies ‘ExperimentHub’, ‘AnnotationHub’\n",
            "\n",
            "\n",
            "Installing package into ‘/usr/local/lib/R/site-library’\n",
            "(as ‘lib’ is unspecified)\n",
            "\n",
            "also installing the dependencies ‘gtools’, ‘caTools’\n",
            "\n",
            "\n",
            "Installing package into ‘/usr/local/lib/R/site-library’\n",
            "(as ‘lib’ is unspecified)\n",
            "\n",
            "Installing package into ‘/usr/local/lib/R/site-library’\n",
            "(as ‘lib’ is unspecified)\n",
            "\n",
            "Warning message:\n",
            "“package ‘SummarizedExperiment’ is not available for this version of R\n",
            "\n",
            "A version of this package for your version of R might be available elsewhere,\n",
            "see the ideas at\n",
            "https://cran.r-project.org/doc/manuals/r-patched/R-admin.html#Installing-packages”\n",
            "Installing package into ‘/usr/local/lib/R/site-library’\n",
            "(as ‘lib’ is unspecified)\n",
            "\n"
          ]
        }
      ],
      "source": [
        "##Install packages\n",
        "if (!require(\"BiocManager\", quietly = TRUE))\n",
        "    install.packages(\"BiocManager\")\n",
        "BiocManager::install(\"TCGAbiolinks\")\n",
        "BiocManager::install(\"edgeR\")\n",
        "BiocManager::install(\"EDASeq\")\n",
        "BiocManager::install(\"limma\")\n",
        "BiocManager::install(\"sesameData\")\n",
        "\n",
        "install.packages('gplots')\n",
        "install.packages(\"pheatmap\")\n",
        "install.packages(\"SummarizedExperiment\")\n",
        "install.packages(\"ggrepel\")"
      ]
    },
    {
      "cell_type": "code",
      "execution_count": 2,
      "metadata": {
        "colab": {
          "base_uri": "https://localhost:8080/"
        },
        "id": "6dBdL4or8_Lx",
        "outputId": "9dbfeb44-869e-40ca-9b68-ae9b95940452",
        "collapsed": true
      },
      "outputs": [
        {
          "output_type": "stream",
          "name": "stderr",
          "text": [
            "Loading required package: MatrixGenerics\n",
            "\n",
            "Loading required package: matrixStats\n",
            "\n",
            "\n",
            "Attaching package: ‘MatrixGenerics’\n",
            "\n",
            "\n",
            "The following objects are masked from ‘package:matrixStats’:\n",
            "\n",
            "    colAlls, colAnyNAs, colAnys, colAvgsPerRowSet, colCollapse,\n",
            "    colCounts, colCummaxs, colCummins, colCumprods, colCumsums,\n",
            "    colDiffs, colIQRDiffs, colIQRs, colLogSumExps, colMadDiffs,\n",
            "    colMads, colMaxs, colMeans2, colMedians, colMins, colOrderStats,\n",
            "    colProds, colQuantiles, colRanges, colRanks, colSdDiffs, colSds,\n",
            "    colSums2, colTabulates, colVarDiffs, colVars, colWeightedMads,\n",
            "    colWeightedMeans, colWeightedMedians, colWeightedSds,\n",
            "    colWeightedVars, rowAlls, rowAnyNAs, rowAnys, rowAvgsPerColSet,\n",
            "    rowCollapse, rowCounts, rowCummaxs, rowCummins, rowCumprods,\n",
            "    rowCumsums, rowDiffs, rowIQRDiffs, rowIQRs, rowLogSumExps,\n",
            "    rowMadDiffs, rowMads, rowMaxs, rowMeans2, rowMedians, rowMins,\n",
            "    rowOrderStats, rowProds, rowQuantiles, rowRanges, rowRanks,\n",
            "    rowSdDiffs, rowSds, rowSums2, rowTabulates, rowVarDiffs, rowVars,\n",
            "    rowWeightedMads, rowWeightedMeans, rowWeightedMedians,\n",
            "    rowWeightedSds, rowWeightedVars\n",
            "\n",
            "\n",
            "Loading required package: GenomicRanges\n",
            "\n",
            "Loading required package: stats4\n",
            "\n",
            "Loading required package: BiocGenerics\n",
            "\n",
            "\n",
            "Attaching package: ‘BiocGenerics’\n",
            "\n",
            "\n",
            "The following objects are masked from ‘package:stats’:\n",
            "\n",
            "    IQR, mad, sd, var, xtabs\n",
            "\n",
            "\n",
            "The following objects are masked from ‘package:base’:\n",
            "\n",
            "    anyDuplicated, aperm, append, as.data.frame, basename, cbind,\n",
            "    colnames, dirname, do.call, duplicated, eval, evalq, Filter, Find,\n",
            "    get, grep, grepl, intersect, is.unsorted, lapply, Map, mapply,\n",
            "    match, mget, order, paste, pmax, pmax.int, pmin, pmin.int,\n",
            "    Position, rank, rbind, Reduce, rownames, sapply, setdiff, table,\n",
            "    tapply, union, unique, unsplit, which.max, which.min\n",
            "\n",
            "\n",
            "Loading required package: S4Vectors\n",
            "\n",
            "\n",
            "Attaching package: ‘S4Vectors’\n",
            "\n",
            "\n",
            "The following object is masked from ‘package:utils’:\n",
            "\n",
            "    findMatches\n",
            "\n",
            "\n",
            "The following objects are masked from ‘package:base’:\n",
            "\n",
            "    expand.grid, I, unname\n",
            "\n",
            "\n",
            "Loading required package: IRanges\n",
            "\n",
            "Loading required package: GenomeInfoDb\n",
            "\n",
            "Loading required package: Biobase\n",
            "\n",
            "Welcome to Bioconductor\n",
            "\n",
            "    Vignettes contain introductory material; view with\n",
            "    'browseVignettes()'. To cite Bioconductor, see\n",
            "    'citation(\"Biobase\")', and for packages 'citation(\"pkgname\")'.\n",
            "\n",
            "\n",
            "\n",
            "Attaching package: ‘Biobase’\n",
            "\n",
            "\n",
            "The following object is masked from ‘package:MatrixGenerics’:\n",
            "\n",
            "    rowMedians\n",
            "\n",
            "\n",
            "The following objects are masked from ‘package:matrixStats’:\n",
            "\n",
            "    anyMissing, rowMedians\n",
            "\n",
            "\n",
            "Loading required package: limma\n",
            "\n",
            "\n",
            "Attaching package: ‘limma’\n",
            "\n",
            "\n",
            "The following object is masked from ‘package:BiocGenerics’:\n",
            "\n",
            "    plotMA\n",
            "\n",
            "\n",
            "Loading required package: ShortRead\n",
            "\n",
            "Loading required package: BiocParallel\n",
            "\n",
            "Loading required package: Biostrings\n",
            "\n",
            "Loading required package: XVector\n",
            "\n",
            "\n",
            "Attaching package: ‘Biostrings’\n",
            "\n",
            "\n",
            "The following object is masked from ‘package:base’:\n",
            "\n",
            "    strsplit\n",
            "\n",
            "\n",
            "Loading required package: Rsamtools\n",
            "\n",
            "Loading required package: GenomicAlignments\n",
            "\n",
            "Loading required package: ExperimentHub\n",
            "\n",
            "Loading required package: AnnotationHub\n",
            "\n",
            "Loading required package: BiocFileCache\n",
            "\n",
            "Loading required package: dbplyr\n",
            "\n",
            "\n",
            "Attaching package: ‘AnnotationHub’\n",
            "\n",
            "\n",
            "The following object is masked from ‘package:Biobase’:\n",
            "\n",
            "    cache\n",
            "\n",
            "\n",
            "Loading sesameData.\n",
            "\n",
            "\n",
            "Attaching package: ‘gplots’\n",
            "\n",
            "\n",
            "The following object is masked from ‘package:IRanges’:\n",
            "\n",
            "    space\n",
            "\n",
            "\n",
            "The following object is masked from ‘package:S4Vectors’:\n",
            "\n",
            "    space\n",
            "\n",
            "\n",
            "The following object is masked from ‘package:stats’:\n",
            "\n",
            "    lowess\n",
            "\n",
            "\n",
            "Loading required package: ggplot2\n",
            "\n"
          ]
        }
      ],
      "source": [
        "## load libraries\n",
        "library(TCGAbiolinks)\n",
        "library(pheatmap)\n",
        "library(SummarizedExperiment)\n",
        "library(edgeR)\n",
        "library(EDASeq)\n",
        "library(limma)\n",
        "library(sesameData)\n",
        "library(gplots)\n",
        "library(ggrepel)"
      ]
    },
    {
      "cell_type": "markdown",
      "metadata": {
        "id": "xRS0DUnKQoeJ"
      },
      "source": [
        "##**Preprocessing of Colon Adenocarcinoma (TCGA-COAD) data**\n",
        "\n",
        "Followed these steps to get data from TCGA using TCGAbiolonks package\n",
        "\n",
        "getProjectSummary() -> GDCquery() -> getResults() -> GDCdownload() -> GDCprepare()"
      ]
    },
    {
      "cell_type": "code",
      "execution_count": 3,
      "metadata": {
        "colab": {
          "base_uri": "https://localhost:8080/",
          "height": 561
        },
        "id": "cYIeD0K-W-1d",
        "outputId": "a16ec7f9-8f4a-419c-d4b4-19e1f2f0656a"
      },
      "outputs": [
        {
          "output_type": "display_data",
          "data": {
            "text/html": [
              "<dl>\n",
              "\t<dt>$file_count</dt>\n",
              "\t\t<dd>25726</dd>\n",
              "\t<dt>$data_categories</dt>\n",
              "\t\t<dd><table class=\"dataframe\">\n",
              "<caption>A data.frame: 10 × 3</caption>\n",
              "<thead>\n",
              "\t<tr><th></th><th scope=col>file_count</th><th scope=col>case_count</th><th scope=col>data_category</th></tr>\n",
              "\t<tr><th></th><th scope=col>&lt;int&gt;</th><th scope=col>&lt;int&gt;</th><th scope=col>&lt;chr&gt;</th></tr>\n",
              "</thead>\n",
              "<tbody>\n",
              "\t<tr><th scope=row>1</th><td>7565</td><td>461</td><td>Simple Nucleotide Variation </td></tr>\n",
              "\t<tr><th scope=row>2</th><td>3607</td><td>460</td><td>Sequencing Reads            </td></tr>\n",
              "\t<tr><th scope=row>3</th><td>2835</td><td>461</td><td>Biospecimen                 </td></tr>\n",
              "\t<tr><th scope=row>4</th><td> 995</td><td>461</td><td>Clinical                    </td></tr>\n",
              "\t<tr><th scope=row>5</th><td>5344</td><td>460</td><td>Copy Number Variation       </td></tr>\n",
              "\t<tr><th scope=row>6</th><td>1978</td><td>459</td><td>Transcriptome Profiling     </td></tr>\n",
              "\t<tr><th scope=row>7</th><td>1665</td><td>457</td><td>DNA Methylation             </td></tr>\n",
              "\t<tr><th scope=row>8</th><td> 363</td><td>360</td><td>Proteome Profiling          </td></tr>\n",
              "\t<tr><th scope=row>9</th><td>  46</td><td> 23</td><td>Somatic Structural Variation</td></tr>\n",
              "\t<tr><th scope=row>10</th><td>1328</td><td>289</td><td>Structural Variation        </td></tr>\n",
              "</tbody>\n",
              "</table>\n",
              "</dd>\n",
              "\t<dt>$case_count</dt>\n",
              "\t\t<dd>461</dd>\n",
              "\t<dt>$file_size</dt>\n",
              "\t\t<dd>273751132109051</dd>\n",
              "</dl>\n"
            ],
            "text/markdown": "$file_count\n:   25726\n$data_categories\n:   \nA data.frame: 10 × 3\n\n| <!--/--> | file_count &lt;int&gt; | case_count &lt;int&gt; | data_category &lt;chr&gt; |\n|---|---|---|---|\n| 1 | 7565 | 461 | Simple Nucleotide Variation  |\n| 2 | 3607 | 460 | Sequencing Reads             |\n| 3 | 2835 | 461 | Biospecimen                  |\n| 4 |  995 | 461 | Clinical                     |\n| 5 | 5344 | 460 | Copy Number Variation        |\n| 6 | 1978 | 459 | Transcriptome Profiling      |\n| 7 | 1665 | 457 | DNA Methylation              |\n| 8 |  363 | 360 | Proteome Profiling           |\n| 9 |   46 |  23 | Somatic Structural Variation |\n| 10 | 1328 | 289 | Structural Variation         |\n\n\n$case_count\n:   461\n$file_size\n:   273751132109051\n\n\n",
            "text/latex": "\\begin{description}\n\\item[\\$file\\_count] 25726\n\\item[\\$data\\_categories] A data.frame: 10 × 3\n\\begin{tabular}{r|lll}\n  & file\\_count & case\\_count & data\\_category\\\\\n  & <int> & <int> & <chr>\\\\\n\\hline\n\t1 & 7565 & 461 & Simple Nucleotide Variation \\\\\n\t2 & 3607 & 460 & Sequencing Reads            \\\\\n\t3 & 2835 & 461 & Biospecimen                 \\\\\n\t4 &  995 & 461 & Clinical                    \\\\\n\t5 & 5344 & 460 & Copy Number Variation       \\\\\n\t6 & 1978 & 459 & Transcriptome Profiling     \\\\\n\t7 & 1665 & 457 & DNA Methylation             \\\\\n\t8 &  363 & 360 & Proteome Profiling          \\\\\n\t9 &   46 &  23 & Somatic Structural Variation\\\\\n\t10 & 1328 & 289 & Structural Variation        \\\\\n\\end{tabular}\n\n\\item[\\$case\\_count] 461\n\\item[\\$file\\_size] 273751132109051\n\\end{description}\n",
            "text/plain": [
              "$file_count\n",
              "[1] 25726\n",
              "\n",
              "$data_categories\n",
              "   file_count case_count                data_category\n",
              "1        7565        461  Simple Nucleotide Variation\n",
              "2        3607        460             Sequencing Reads\n",
              "3        2835        461                  Biospecimen\n",
              "4         995        461                     Clinical\n",
              "5        5344        460        Copy Number Variation\n",
              "6        1978        459      Transcriptome Profiling\n",
              "7        1665        457              DNA Methylation\n",
              "8         363        360           Proteome Profiling\n",
              "9          46         23 Somatic Structural Variation\n",
              "10       1328        289         Structural Variation\n",
              "\n",
              "$case_count\n",
              "[1] 461\n",
              "\n",
              "$file_size\n",
              "[1] 2.737511e+14\n"
            ]
          },
          "metadata": {}
        }
      ],
      "source": [
        "# get sumamry of TCGA-COAD project\n",
        "getProjectSummary(\"TCGA-COAD\")"
      ]
    },
    {
      "cell_type": "markdown",
      "metadata": {
        "id": "p4BGHR9Ahbv7"
      },
      "source": [
        "### Build a query for TCGA-COAD"
      ]
    },
    {
      "cell_type": "code",
      "execution_count": 4,
      "metadata": {
        "colab": {
          "base_uri": "https://localhost:8080/"
        },
        "collapsed": true,
        "id": "5bMUPNkeW_kD",
        "outputId": "9b7edf8a-f8b3-4584-faa2-eb8e536caf49"
      },
      "outputs": [
        {
          "output_type": "stream",
          "name": "stderr",
          "text": [
            "--------------------------------------\n",
            "\n",
            "o GDCquery: Searching in GDC database\n",
            "\n",
            "--------------------------------------\n",
            "\n",
            "Genome of reference: hg38\n",
            "\n",
            "--------------------------------------------\n",
            "\n",
            "oo Accessing GDC. This might take a while...\n",
            "\n",
            "--------------------------------------------\n",
            "\n",
            "ooo Project: TCGA-COAD\n",
            "\n",
            "--------------------\n",
            "\n",
            "oo Filtering results\n",
            "\n",
            "--------------------\n",
            "\n",
            "ooo By access\n",
            "\n",
            "ooo By experimental.strategy\n",
            "\n",
            "ooo By workflow.type\n",
            "\n",
            "ooo By sample.type\n",
            "\n",
            "----------------\n",
            "\n",
            "oo Checking data\n",
            "\n",
            "----------------\n",
            "\n",
            "ooo Checking if there are duplicated cases\n",
            "\n",
            "ooo Checking if there are results for the query\n",
            "\n",
            "-------------------\n",
            "\n",
            "o Preparing output\n",
            "\n",
            "-------------------\n",
            "\n"
          ]
        }
      ],
      "source": [
        "# build a query to downlaod data\n",
        "query_TCGA <- GDCquery(project = \"TCGA-COAD\",\n",
        "                        data.category = \"Transcriptome Profiling\",\n",
        "                        experimental.strategy = \"RNA-Seq\",\n",
        "                        workflow.type = \"STAR - Counts\",\n",
        "                        access = \"open\",\n",
        "                        sample.type = c(\"Solid Tissue Normal\", \"Primary Tumor\")\n",
        "                        )"
      ]
    },
    {
      "cell_type": "markdown",
      "metadata": {
        "id": "hU9Ip_0ehjrQ"
      },
      "source": [
        "### Get results from the query (this step takes some time)"
      ]
    },
    {
      "cell_type": "code",
      "execution_count": 5,
      "metadata": {
        "collapsed": true,
        "id": "5C39cckxXv2x"
      },
      "outputs": [],
      "source": [
        "#get results of the query\n",
        "output_query_TCGA <- getResults(query_TCGA)\n",
        "\n",
        "\n",
        "#GDCdownload(query_TCGA)"
      ]
    },
    {
      "cell_type": "markdown",
      "metadata": {
        "id": "y1mxQ539hqeQ"
      },
      "source": [
        "### Using the query results and extract only 20 normal and 20 tumor samples"
      ]
    },
    {
      "cell_type": "code",
      "execution_count": 6,
      "metadata": {
        "colab": {
          "base_uri": "https://localhost:8080/",
          "height": 156
        },
        "id": "1nRi_fufZ24N",
        "outputId": "4b102c0e-cd4a-4224-8412-0bf847fbf0ba"
      },
      "outputs": [
        {
          "output_type": "display_data",
          "data": {
            "text/html": [
              "<style>\n",
              ".list-inline {list-style: none; margin:0; padding: 0}\n",
              ".list-inline>li {display: inline-block}\n",
              ".list-inline>li:not(:last-child)::after {content: \"\\00b7\"; padding: 0 .5ex}\n",
              "</style>\n",
              "<ol class=list-inline><li>'TCGA-AA-3662-11A-01R-1723-07'</li><li>'TCGA-AA-3531-11A-01R-A32Z-07'</li><li>'TCGA-AZ-6603-11A-02R-1839-07'</li><li>'TCGA-AZ-6599-11A-01R-1774-07'</li><li>'TCGA-AA-3655-11A-01R-1723-07'</li><li>'TCGA-A6-5665-11A-01R-1653-07'</li><li>'TCGA-A6-2686-11A-01R-A32Z-07'</li><li>'TCGA-A6-5659-11A-01R-1653-07'</li><li>'TCGA-A6-2684-11A-01R-A32Z-07'</li><li>'TCGA-AZ-6598-11A-01R-1774-07'</li><li>'TCGA-AA-3517-11A-01R-A32Z-07'</li><li>'TCGA-AA-3516-11A-01R-A32Z-07'</li><li>'TCGA-AA-3514-11A-01R-A32Z-07'</li><li>'TCGA-A6-2675-11A-01R-1723-07'</li><li>'TCGA-A6-2679-11A-01R-A32Z-07'</li><li>'TCGA-A6-2671-11A-01R-A32Z-07'</li><li>'TCGA-AA-3518-11A-01R-1672-07'</li><li>'TCGA-A6-2683-11A-01R-A32Z-07'</li><li>'TCGA-AA-3660-11A-01R-1723-07'</li><li>'TCGA-A6-2682-11A-01R-A32Z-07'</li><li>'TCGA-AA-3692-01A-01R-0905-07'</li><li>'TCGA-AA-A00L-01A-01R-A002-07'</li><li>'TCGA-G4-6625-01A-21R-1774-07'</li><li>'TCGA-AA-3522-01A-01R-0821-07'</li><li>'TCGA-CM-4750-01A-01R-1410-07'</li><li>'TCGA-AA-3554-01A-01R-0826-07'</li><li>'TCGA-AA-3561-01A-01R-0821-07'</li><li>'TCGA-G4-6307-01A-11R-1723-07'</li><li>'TCGA-A6-6781-01A-22R-A278-07'</li><li>'TCGA-AY-A8YK-01A-11R-A41B-07'</li><li>'TCGA-F4-6703-01A-11R-1839-07'</li><li>'TCGA-AD-6965-01A-11R-1928-07'</li><li>'TCGA-A6-6781-01B-06R-A277-07'</li><li>'TCGA-AA-A029-01A-01R-A00A-07'</li><li>'TCGA-AA-3510-01A-01R-1410-07'</li><li>'TCGA-AY-A71X-01A-12R-A37K-07'</li><li>'TCGA-CM-5341-01A-01R-1410-07'</li><li>'TCGA-F4-6809-01A-11R-1839-07'</li><li>'TCGA-A6-2678-01A-01R-0821-07'</li><li>'TCGA-A6-6653-01A-11R-1774-07'</li></ol>\n"
            ],
            "text/markdown": "1. 'TCGA-AA-3662-11A-01R-1723-07'\n2. 'TCGA-AA-3531-11A-01R-A32Z-07'\n3. 'TCGA-AZ-6603-11A-02R-1839-07'\n4. 'TCGA-AZ-6599-11A-01R-1774-07'\n5. 'TCGA-AA-3655-11A-01R-1723-07'\n6. 'TCGA-A6-5665-11A-01R-1653-07'\n7. 'TCGA-A6-2686-11A-01R-A32Z-07'\n8. 'TCGA-A6-5659-11A-01R-1653-07'\n9. 'TCGA-A6-2684-11A-01R-A32Z-07'\n10. 'TCGA-AZ-6598-11A-01R-1774-07'\n11. 'TCGA-AA-3517-11A-01R-A32Z-07'\n12. 'TCGA-AA-3516-11A-01R-A32Z-07'\n13. 'TCGA-AA-3514-11A-01R-A32Z-07'\n14. 'TCGA-A6-2675-11A-01R-1723-07'\n15. 'TCGA-A6-2679-11A-01R-A32Z-07'\n16. 'TCGA-A6-2671-11A-01R-A32Z-07'\n17. 'TCGA-AA-3518-11A-01R-1672-07'\n18. 'TCGA-A6-2683-11A-01R-A32Z-07'\n19. 'TCGA-AA-3660-11A-01R-1723-07'\n20. 'TCGA-A6-2682-11A-01R-A32Z-07'\n21. 'TCGA-AA-3692-01A-01R-0905-07'\n22. 'TCGA-AA-A00L-01A-01R-A002-07'\n23. 'TCGA-G4-6625-01A-21R-1774-07'\n24. 'TCGA-AA-3522-01A-01R-0821-07'\n25. 'TCGA-CM-4750-01A-01R-1410-07'\n26. 'TCGA-AA-3554-01A-01R-0826-07'\n27. 'TCGA-AA-3561-01A-01R-0821-07'\n28. 'TCGA-G4-6307-01A-11R-1723-07'\n29. 'TCGA-A6-6781-01A-22R-A278-07'\n30. 'TCGA-AY-A8YK-01A-11R-A41B-07'\n31. 'TCGA-F4-6703-01A-11R-1839-07'\n32. 'TCGA-AD-6965-01A-11R-1928-07'\n33. 'TCGA-A6-6781-01B-06R-A277-07'\n34. 'TCGA-AA-A029-01A-01R-A00A-07'\n35. 'TCGA-AA-3510-01A-01R-1410-07'\n36. 'TCGA-AY-A71X-01A-12R-A37K-07'\n37. 'TCGA-CM-5341-01A-01R-1410-07'\n38. 'TCGA-F4-6809-01A-11R-1839-07'\n39. 'TCGA-A6-2678-01A-01R-0821-07'\n40. 'TCGA-A6-6653-01A-11R-1774-07'\n\n\n",
            "text/latex": "\\begin{enumerate*}\n\\item 'TCGA-AA-3662-11A-01R-1723-07'\n\\item 'TCGA-AA-3531-11A-01R-A32Z-07'\n\\item 'TCGA-AZ-6603-11A-02R-1839-07'\n\\item 'TCGA-AZ-6599-11A-01R-1774-07'\n\\item 'TCGA-AA-3655-11A-01R-1723-07'\n\\item 'TCGA-A6-5665-11A-01R-1653-07'\n\\item 'TCGA-A6-2686-11A-01R-A32Z-07'\n\\item 'TCGA-A6-5659-11A-01R-1653-07'\n\\item 'TCGA-A6-2684-11A-01R-A32Z-07'\n\\item 'TCGA-AZ-6598-11A-01R-1774-07'\n\\item 'TCGA-AA-3517-11A-01R-A32Z-07'\n\\item 'TCGA-AA-3516-11A-01R-A32Z-07'\n\\item 'TCGA-AA-3514-11A-01R-A32Z-07'\n\\item 'TCGA-A6-2675-11A-01R-1723-07'\n\\item 'TCGA-A6-2679-11A-01R-A32Z-07'\n\\item 'TCGA-A6-2671-11A-01R-A32Z-07'\n\\item 'TCGA-AA-3518-11A-01R-1672-07'\n\\item 'TCGA-A6-2683-11A-01R-A32Z-07'\n\\item 'TCGA-AA-3660-11A-01R-1723-07'\n\\item 'TCGA-A6-2682-11A-01R-A32Z-07'\n\\item 'TCGA-AA-3692-01A-01R-0905-07'\n\\item 'TCGA-AA-A00L-01A-01R-A002-07'\n\\item 'TCGA-G4-6625-01A-21R-1774-07'\n\\item 'TCGA-AA-3522-01A-01R-0821-07'\n\\item 'TCGA-CM-4750-01A-01R-1410-07'\n\\item 'TCGA-AA-3554-01A-01R-0826-07'\n\\item 'TCGA-AA-3561-01A-01R-0821-07'\n\\item 'TCGA-G4-6307-01A-11R-1723-07'\n\\item 'TCGA-A6-6781-01A-22R-A278-07'\n\\item 'TCGA-AY-A8YK-01A-11R-A41B-07'\n\\item 'TCGA-F4-6703-01A-11R-1839-07'\n\\item 'TCGA-AD-6965-01A-11R-1928-07'\n\\item 'TCGA-A6-6781-01B-06R-A277-07'\n\\item 'TCGA-AA-A029-01A-01R-A00A-07'\n\\item 'TCGA-AA-3510-01A-01R-1410-07'\n\\item 'TCGA-AY-A71X-01A-12R-A37K-07'\n\\item 'TCGA-CM-5341-01A-01R-1410-07'\n\\item 'TCGA-F4-6809-01A-11R-1839-07'\n\\item 'TCGA-A6-2678-01A-01R-0821-07'\n\\item 'TCGA-A6-6653-01A-11R-1774-07'\n\\end{enumerate*}\n",
            "text/plain": [
              " [1] \"TCGA-AA-3662-11A-01R-1723-07\" \"TCGA-AA-3531-11A-01R-A32Z-07\"\n",
              " [3] \"TCGA-AZ-6603-11A-02R-1839-07\" \"TCGA-AZ-6599-11A-01R-1774-07\"\n",
              " [5] \"TCGA-AA-3655-11A-01R-1723-07\" \"TCGA-A6-5665-11A-01R-1653-07\"\n",
              " [7] \"TCGA-A6-2686-11A-01R-A32Z-07\" \"TCGA-A6-5659-11A-01R-1653-07\"\n",
              " [9] \"TCGA-A6-2684-11A-01R-A32Z-07\" \"TCGA-AZ-6598-11A-01R-1774-07\"\n",
              "[11] \"TCGA-AA-3517-11A-01R-A32Z-07\" \"TCGA-AA-3516-11A-01R-A32Z-07\"\n",
              "[13] \"TCGA-AA-3514-11A-01R-A32Z-07\" \"TCGA-A6-2675-11A-01R-1723-07\"\n",
              "[15] \"TCGA-A6-2679-11A-01R-A32Z-07\" \"TCGA-A6-2671-11A-01R-A32Z-07\"\n",
              "[17] \"TCGA-AA-3518-11A-01R-1672-07\" \"TCGA-A6-2683-11A-01R-A32Z-07\"\n",
              "[19] \"TCGA-AA-3660-11A-01R-1723-07\" \"TCGA-A6-2682-11A-01R-A32Z-07\"\n",
              "[21] \"TCGA-AA-3692-01A-01R-0905-07\" \"TCGA-AA-A00L-01A-01R-A002-07\"\n",
              "[23] \"TCGA-G4-6625-01A-21R-1774-07\" \"TCGA-AA-3522-01A-01R-0821-07\"\n",
              "[25] \"TCGA-CM-4750-01A-01R-1410-07\" \"TCGA-AA-3554-01A-01R-0826-07\"\n",
              "[27] \"TCGA-AA-3561-01A-01R-0821-07\" \"TCGA-G4-6307-01A-11R-1723-07\"\n",
              "[29] \"TCGA-A6-6781-01A-22R-A278-07\" \"TCGA-AY-A8YK-01A-11R-A41B-07\"\n",
              "[31] \"TCGA-F4-6703-01A-11R-1839-07\" \"TCGA-AD-6965-01A-11R-1928-07\"\n",
              "[33] \"TCGA-A6-6781-01B-06R-A277-07\" \"TCGA-AA-A029-01A-01R-A00A-07\"\n",
              "[35] \"TCGA-AA-3510-01A-01R-1410-07\" \"TCGA-AY-A71X-01A-12R-A37K-07\"\n",
              "[37] \"TCGA-CM-5341-01A-01R-1410-07\" \"TCGA-F4-6809-01A-11R-1839-07\"\n",
              "[39] \"TCGA-A6-2678-01A-01R-0821-07\" \"TCGA-A6-6653-01A-11R-1774-07\""
            ]
          },
          "metadata": {}
        }
      ],
      "source": [
        "# from output_query_TCGA results extract only First 20 Solid Tissue Normal and 20 Primary Tunor samples\n",
        "normal_samples <- output_query_TCGA[output_query_TCGA$sample_type == \"Solid Tissue Normal\", ][1:20, ]\n",
        "tumor_samples <- output_query_TCGA[output_query_TCGA$sample_type == \"Primary Tumor\", ][1:20, ]\n",
        "\n",
        "#combine normal and tumor samples\n",
        "combined_samples <- rbind(normal_samples, tumor_samples)\n",
        "combined_samples <-combined_samples[, c(\"cases\", \"sample_type\")]\n",
        "\n",
        "# creating a list of all sample cases in combined_samples\n",
        "sample_barcodes <- as.character(combined_samples[[\"cases\"]])\n",
        "sample_barcodes\n"
      ]
    },
    {
      "cell_type": "markdown",
      "metadata": {
        "id": "76mVYcA4iMxG"
      },
      "source": [
        "### Prepare sample metadata from combined_samples and download it into a csv"
      ]
    },
    {
      "cell_type": "code",
      "execution_count": 7,
      "metadata": {
        "colab": {
          "base_uri": "https://localhost:8080/",
          "height": 286
        },
        "id": "8W6hlM8lZ45L",
        "outputId": "6d6643bf-c3cf-4fd2-cb75-a448985f3259"
      },
      "outputs": [
        {
          "output_type": "display_data",
          "data": {
            "text/html": [
              "<table class=\"dataframe\">\n",
              "<caption>A data.frame: 6 × 1</caption>\n",
              "<thead>\n",
              "\t<tr><th></th><th scope=col>sample_type</th></tr>\n",
              "\t<tr><th></th><th scope=col>&lt;chr&gt;</th></tr>\n",
              "</thead>\n",
              "<tbody>\n",
              "\t<tr><th scope=row>TCGA-AA-3662-11A-01R-1723-07</th><td>Solid Tissue Normal</td></tr>\n",
              "\t<tr><th scope=row>TCGA-AA-3531-11A-01R-A32Z-07</th><td>Solid Tissue Normal</td></tr>\n",
              "\t<tr><th scope=row>TCGA-AZ-6603-11A-02R-1839-07</th><td>Solid Tissue Normal</td></tr>\n",
              "\t<tr><th scope=row>TCGA-AZ-6599-11A-01R-1774-07</th><td>Solid Tissue Normal</td></tr>\n",
              "\t<tr><th scope=row>TCGA-AA-3655-11A-01R-1723-07</th><td>Solid Tissue Normal</td></tr>\n",
              "\t<tr><th scope=row>TCGA-A6-5665-11A-01R-1653-07</th><td>Solid Tissue Normal</td></tr>\n",
              "</tbody>\n",
              "</table>\n"
            ],
            "text/markdown": "\nA data.frame: 6 × 1\n\n| <!--/--> | sample_type &lt;chr&gt; |\n|---|---|\n| TCGA-AA-3662-11A-01R-1723-07 | Solid Tissue Normal |\n| TCGA-AA-3531-11A-01R-A32Z-07 | Solid Tissue Normal |\n| TCGA-AZ-6603-11A-02R-1839-07 | Solid Tissue Normal |\n| TCGA-AZ-6599-11A-01R-1774-07 | Solid Tissue Normal |\n| TCGA-AA-3655-11A-01R-1723-07 | Solid Tissue Normal |\n| TCGA-A6-5665-11A-01R-1653-07 | Solid Tissue Normal |\n\n",
            "text/latex": "A data.frame: 6 × 1\n\\begin{tabular}{r|l}\n  & sample\\_type\\\\\n  & <chr>\\\\\n\\hline\n\tTCGA-AA-3662-11A-01R-1723-07 & Solid Tissue Normal\\\\\n\tTCGA-AA-3531-11A-01R-A32Z-07 & Solid Tissue Normal\\\\\n\tTCGA-AZ-6603-11A-02R-1839-07 & Solid Tissue Normal\\\\\n\tTCGA-AZ-6599-11A-01R-1774-07 & Solid Tissue Normal\\\\\n\tTCGA-AA-3655-11A-01R-1723-07 & Solid Tissue Normal\\\\\n\tTCGA-A6-5665-11A-01R-1653-07 & Solid Tissue Normal\\\\\n\\end{tabular}\n",
            "text/plain": [
              "                             sample_type        \n",
              "TCGA-AA-3662-11A-01R-1723-07 Solid Tissue Normal\n",
              "TCGA-AA-3531-11A-01R-A32Z-07 Solid Tissue Normal\n",
              "TCGA-AZ-6603-11A-02R-1839-07 Solid Tissue Normal\n",
              "TCGA-AZ-6599-11A-01R-1774-07 Solid Tissue Normal\n",
              "TCGA-AA-3655-11A-01R-1723-07 Solid Tissue Normal\n",
              "TCGA-A6-5665-11A-01R-1653-07 Solid Tissue Normal"
            ]
          },
          "metadata": {}
        }
      ],
      "source": [
        "#store combined samples data into a dataframe where cases are rownames\n",
        "coad_metadata <- data.frame(\"sample_names\"=combined_samples$cases,\"sample_type\"=combined_samples$sample_type, row.names = 1)\n",
        "head(coad_metadata)\n",
        "\n",
        "#write metadata into a csv file\n",
        "write.csv(coad_metadata , \"COAD_Metadada.csv\", row.names = FALSE)"
      ]
    },
    {
      "cell_type": "markdown",
      "metadata": {
        "id": "wjJJhHPai9w-"
      },
      "source": [
        "### Using sample barcodes build another query to download only 40 samples (20 normal and 20 tumor)."
      ]
    },
    {
      "cell_type": "code",
      "execution_count": 8,
      "metadata": {
        "colab": {
          "base_uri": "https://localhost:8080/"
        },
        "id": "AIRHLsn-Z8vs",
        "outputId": "8af71f12-5a89-4d6e-ba86-ef087472ebdf",
        "collapsed": true
      },
      "outputs": [
        {
          "output_type": "stream",
          "name": "stderr",
          "text": [
            "--------------------------------------\n",
            "\n",
            "o GDCquery: Searching in GDC database\n",
            "\n",
            "--------------------------------------\n",
            "\n",
            "Genome of reference: hg38\n",
            "\n",
            "--------------------------------------------\n",
            "\n",
            "oo Accessing GDC. This might take a while...\n",
            "\n",
            "--------------------------------------------\n",
            "\n",
            "ooo Project: TCGA-COAD\n",
            "\n",
            "--------------------\n",
            "\n",
            "oo Filtering results\n",
            "\n",
            "--------------------\n",
            "\n",
            "ooo By access\n",
            "\n",
            "ooo By experimental.strategy\n",
            "\n",
            "ooo By workflow.type\n",
            "\n",
            "ooo By barcode\n",
            "\n",
            "----------------\n",
            "\n",
            "oo Checking data\n",
            "\n",
            "----------------\n",
            "\n",
            "ooo Checking if there are duplicated cases\n",
            "\n",
            "ooo Checking if there are results for the query\n",
            "\n",
            "-------------------\n",
            "\n",
            "o Preparing output\n",
            "\n",
            "-------------------\n",
            "\n"
          ]
        }
      ],
      "source": [
        "# now using these sample_names download only 40 samples from the entire dataset\n",
        "query_TCGA2 <- GDCquery(project = 'TCGA-COAD',\n",
        "                      data.category = 'Transcriptome Profiling',\n",
        "                      experimental.strategy = 'RNA-Seq',\n",
        "                      workflow.type = 'STAR - Counts',\n",
        "                      access = 'open',\n",
        "                      barcode = sample_barcodes)"
      ]
    },
    {
      "cell_type": "markdown",
      "metadata": {
        "id": "HTb88WAvjVYd"
      },
      "source": [
        "Get query results and download 20 normal and 20 tumor samples"
      ]
    },
    {
      "cell_type": "code",
      "execution_count": 9,
      "metadata": {
        "colab": {
          "base_uri": "https://localhost:8080/"
        },
        "id": "5Kh74_gxQj78",
        "outputId": "e8f1e35d-604a-471f-f4a3-f37537a26940",
        "collapsed": true
      },
      "outputs": [
        {
          "output_type": "stream",
          "name": "stderr",
          "text": [
            "Downloading data for project TCGA-COAD\n",
            "\n",
            "GDCdownload will download 40 files. A total of 169.075156 MB\n",
            "\n",
            "Downloading as: Tue_Sep_24_17_46_34_2024.tar.gz\n",
            "\n"
          ]
        },
        {
          "output_type": "stream",
          "name": "stdout",
          "text": [
            "Downloading: 40 MB     "
          ]
        }
      ],
      "source": [
        "#get results for query\n",
        "output_query_TCGA2 <- getResults(query_TCGA2)\n",
        "\n",
        "# download 20 normal 20 tumor samples\n",
        "GDCdownload(query_TCGA2)"
      ]
    },
    {
      "cell_type": "markdown",
      "metadata": {
        "id": "bal1HCpbjigh"
      },
      "source": [
        "### Prepare query, use unstranded assay and download COAD rawdata into csv for further analysis"
      ]
    },
    {
      "cell_type": "code",
      "execution_count": 10,
      "metadata": {
        "colab": {
          "base_uri": "https://localhost:8080/"
        },
        "collapsed": true,
        "id": "AWiLPtTteVSq",
        "outputId": "aa47fe1b-443c-42fa-eb7e-14d3c80b9d83"
      },
      "outputs": [
        {
          "output_type": "stream",
          "name": "stdout",
          "text": [
            "|====================================================|100%                      Completed after 5 s \n"
          ]
        },
        {
          "output_type": "stream",
          "name": "stderr",
          "text": [
            "Starting to add information to samples\n",
            "\n",
            " => Add clinical information to samples\n",
            "\n",
            " => Adding TCGA molecular information from marker papers\n",
            "\n",
            " => Information will have prefix 'paper_' \n",
            "\n",
            "coad subtype information from:doi:10.1038/nature11252\n",
            "\n",
            "Available assays in SummarizedExperiment : \n",
            "  => unstranded\n",
            "  => stranded_first\n",
            "  => stranded_second\n",
            "  => tpm_unstrand\n",
            "  => fpkm_unstrand\n",
            "  => fpkm_uq_unstrand\n",
            "\n"
          ]
        }
      ],
      "source": [
        "#prepare query\n",
        "tcga_coad_data <- GDCprepare(query_TCGA2, summarizedExperiment = TRUE)\n",
        "\n",
        "#use unstranded assay from available assays in SummarizedExperiment\n",
        "coad_matrix <- assay(tcga_coad_data, \"unstranded\")\n",
        "\n",
        "#write tcga-code matrix data into a csv file\n",
        "write.csv(coad_matrix, \"COAD_Matrix.csv\")"
      ]
    },
    {
      "cell_type": "markdown",
      "metadata": {
        "id": "S-trcP8grxXz"
      },
      "source": [
        "### **Check if colnames of coad_matrix and rownames of coad_metadata match**"
      ]
    },
    {
      "cell_type": "code",
      "execution_count": 11,
      "metadata": {
        "colab": {
          "base_uri": "https://localhost:8080/",
          "height": 17
        },
        "id": "elPMLgnQwmDB",
        "outputId": "76fdb48a-48df-48df-d77a-50484b1f64cd"
      },
      "outputs": [
        {
          "output_type": "display_data",
          "data": {
            "text/html": [],
            "text/markdown": "",
            "text/latex": "",
            "text/plain": [
              "character(0)"
            ]
          },
          "metadata": {}
        }
      ],
      "source": [
        "# Find colnames in coad_readcount_matrix that are not present in rownames of coad_metadata\n",
        "colnames(coad_matrix)[!colnames(coad_matrix) %in% rownames(coad_metadata)]"
      ]
    },
    {
      "cell_type": "code",
      "execution_count": 12,
      "metadata": {
        "id": "meqT5ZFBnUxp"
      },
      "outputs": [],
      "source": [
        "# in coad_metadata rownames replace \".\" with \"-\" so it can match with colanames of in coad_data\n",
        "# for example TCGA.AA.3662.11A.01R.1723.07 -> TCGA-AA-3662-11A-01R-1723-07\n",
        "#rownames(coad_metadata) <- gsub(\"\\\\.\", \"-\", rownames(coad_metadata))"
      ]
    },
    {
      "cell_type": "code",
      "execution_count": 13,
      "metadata": {
        "colab": {
          "base_uri": "https://localhost:8080/",
          "height": 34
        },
        "id": "hZ39Lql2m88B",
        "outputId": "4da96d6c-8e37-4679-84e7-c014f76aa772"
      },
      "outputs": [
        {
          "output_type": "display_data",
          "data": {
            "text/html": [
              "TRUE"
            ],
            "text/markdown": "TRUE",
            "text/latex": "TRUE",
            "text/plain": [
              "[1] TRUE"
            ]
          },
          "metadata": {}
        }
      ],
      "source": [
        "# check if all colnames of coad_readcount_matrix are present in all rownames of coad_metadata\n",
        "all(colnames(coad_matrix) %in% rownames(coad_metadata))"
      ]
    },
    {
      "cell_type": "code",
      "execution_count": 14,
      "metadata": {
        "colab": {
          "base_uri": "https://localhost:8080/",
          "height": 34
        },
        "id": "JwZz89Z6nyy7",
        "outputId": "6fe0dd56-ec92-46d2-95f1-2ad3330a6f9f"
      },
      "outputs": [
        {
          "output_type": "display_data",
          "data": {
            "text/html": [
              "TRUE"
            ],
            "text/markdown": "TRUE",
            "text/latex": "TRUE",
            "text/plain": [
              "[1] TRUE"
            ]
          },
          "metadata": {}
        }
      ],
      "source": [
        "# check if all colnames of coad_readcount_matri match with all rownames of coad_metadata\n",
        "all(colnames(coad_matrix) == rownames(coad_metadata))"
      ]
    },
    {
      "cell_type": "markdown",
      "metadata": {
        "id": "dRFGnIVDSzB1"
      },
      "source": [
        "## **Normalize TCGA-COAD raw data**"
      ]
    },
    {
      "cell_type": "markdown",
      "metadata": {
        "id": "LlV74eFs5zpA"
      },
      "source": [
        "### Normalize data based on lowly expressed genes"
      ]
    },
    {
      "cell_type": "code",
      "execution_count": 15,
      "metadata": {
        "colab": {
          "base_uri": "https://localhost:8080/"
        },
        "id": "kcbKkPnnzATl",
        "outputId": "5c3f33c0-c0bb-43bf-fd6d-d0cc24ff76a5",
        "collapsed": true
      },
      "outputs": [
        {
          "output_type": "stream",
          "name": "stderr",
          "text": [
            "I Need about  26 seconds for this Complete Normalization Upper Quantile  [Processing 80k elements /s]  \n",
            "\n",
            "Step 1 of 4: newSeqExpressionSet ...\n",
            "\n",
            "Step 2 of 4: withinLaneNormalization ...\n",
            "\n",
            "Step 3 of 4: betweenLaneNormalization ...\n",
            "\n",
            "Step 4 of 4: exprs ...\n",
            "\n"
          ]
        }
      ],
      "source": [
        "# Normalize data with TCGAanalyze_Normalization\n",
        "coad_norm <- TCGAanalyze_Normalization(\n",
        "  tabDF = coad_matrix,\n",
        "  geneInfo = geneInfoHT,\n",
        "  method = \"geneLength\"\n",
        ")\n"
      ]
    },
    {
      "cell_type": "markdown",
      "metadata": {
        "id": "YPeAGd3L5pzo"
      },
      "source": [
        "### Filter normalized data by checking quantile cutoff"
      ]
    },
    {
      "cell_type": "code",
      "execution_count": 16,
      "metadata": {
        "id": "BStvj1lh3YgW"
      },
      "outputs": [],
      "source": [
        "# filter coad data\n",
        "coad_filter <- TCGAanalyze_Filtering(\n",
        "  tabDF = coad_norm,\n",
        "  method = \"quantile\",\n",
        "  qnt.cut = 0.25\n",
        ")\n",
        "\n",
        "write.csv(coad_filter, \"COAD_Normalized_filtered_matrix.csv\")"
      ]
    },
    {
      "cell_type": "code",
      "execution_count": 17,
      "metadata": {
        "colab": {
          "base_uri": "https://localhost:8080/",
          "height": 69
        },
        "id": "OT7tzrkr0NFD",
        "outputId": "1bd5765d-faf3-4d51-83ed-2ce9cfc919a7"
      },
      "outputs": [
        {
          "output_type": "stream",
          "name": "stdout",
          "text": [
            "[1] \"total rows of coad data before normalization: 60660\"\n",
            "[1] \"total rows of coad data after normalization: 25104\"\n"
          ]
        },
        {
          "output_type": "display_data",
          "data": {
            "text/html": [
              "25104"
            ],
            "text/markdown": "25104",
            "text/latex": "25104",
            "text/plain": [
              "[1] 25104"
            ]
          },
          "metadata": {}
        }
      ],
      "source": [
        "print(paste0(\"total rows of coad data before normalization: \",nrow(coad_matrix)))\n",
        "print(paste0(\"total rows of coad data after normalization: \",nrow(coad_filter)))\n",
        "nrow(coad_filter)"
      ]
    },
    {
      "cell_type": "markdown",
      "metadata": {
        "id": "3HcIbkmd6OBX"
      },
      "source": [
        "### Transform normalized and filtered data into Log2"
      ]
    },
    {
      "cell_type": "code",
      "execution_count": 18,
      "metadata": {
        "colab": {
          "base_uri": "https://localhost:8080/",
          "height": 414
        },
        "id": "p7vNPW8e2Gja",
        "outputId": "08b0dd64-758f-49db-b6f3-de57d022e5d0"
      },
      "outputs": [
        {
          "output_type": "display_data",
          "data": {
            "text/html": [
              "<style>\n",
              ".list-inline {list-style: none; margin:0; padding: 0}\n",
              ".list-inline>li {display: inline-block}\n",
              ".list-inline>li:not(:last-child)::after {content: \"\\00b7\"; padding: 0 .5ex}\n",
              "</style>\n",
              "<ol class=list-inline><li>25104</li><li>40</li></ol>\n"
            ],
            "text/markdown": "1. 25104\n2. 40\n\n\n",
            "text/latex": "\\begin{enumerate*}\n\\item 25104\n\\item 40\n\\end{enumerate*}\n",
            "text/plain": [
              "[1] 25104    40"
            ]
          },
          "metadata": {}
        },
        {
          "output_type": "display_data",
          "data": {
            "text/html": [
              "<style>\n",
              ".list-inline {list-style: none; margin:0; padding: 0}\n",
              ".list-inline>li {display: inline-block}\n",
              ".list-inline>li:not(:last-child)::after {content: \"\\00b7\"; padding: 0 .5ex}\n",
              "</style>\n",
              "<ol class=list-inline><li>25104</li><li>20</li></ol>\n"
            ],
            "text/markdown": "1. 25104\n2. 20\n\n\n",
            "text/latex": "\\begin{enumerate*}\n\\item 25104\n\\item 20\n\\end{enumerate*}\n",
            "text/plain": [
              "[1] 25104    20"
            ]
          },
          "metadata": {}
        },
        {
          "output_type": "display_data",
          "data": {
            "text/html": [
              "<style>\n",
              ".list-inline {list-style: none; margin:0; padding: 0}\n",
              ".list-inline>li {display: inline-block}\n",
              ".list-inline>li:not(:last-child)::after {content: \"\\00b7\"; padding: 0 .5ex}\n",
              "</style>\n",
              "<ol class=list-inline><li>25104</li><li>20</li></ol>\n"
            ],
            "text/markdown": "1. 25104\n2. 20\n\n\n",
            "text/latex": "\\begin{enumerate*}\n\\item 25104\n\\item 20\n\\end{enumerate*}\n",
            "text/plain": [
              "[1] 25104    20"
            ]
          },
          "metadata": {}
        },
        {
          "output_type": "display_data",
          "data": {
            "text/html": [
              "<table class=\"dataframe\">\n",
              "<caption>A matrix: 6 × 40 of type dbl</caption>\n",
              "<thead>\n",
              "\t<tr><th></th><th scope=col>TCGA-AA-3662-11A-01R-1723-07</th><th scope=col>TCGA-AA-3531-11A-01R-A32Z-07</th><th scope=col>TCGA-AZ-6603-11A-02R-1839-07</th><th scope=col>TCGA-AZ-6599-11A-01R-1774-07</th><th scope=col>TCGA-AA-3655-11A-01R-1723-07</th><th scope=col>TCGA-A6-5665-11A-01R-1653-07</th><th scope=col>TCGA-A6-2686-11A-01R-A32Z-07</th><th scope=col>TCGA-A6-5659-11A-01R-1653-07</th><th scope=col>TCGA-A6-2684-11A-01R-A32Z-07</th><th scope=col>TCGA-AZ-6598-11A-01R-1774-07</th><th scope=col>⋯</th><th scope=col>TCGA-F4-6703-01A-11R-1839-07</th><th scope=col>TCGA-AD-6965-01A-11R-1928-07</th><th scope=col>TCGA-A6-6781-01B-06R-A277-07</th><th scope=col>TCGA-AA-A029-01A-01R-A00A-07</th><th scope=col>TCGA-AA-3510-01A-01R-1410-07</th><th scope=col>TCGA-AY-A71X-01A-12R-A37K-07</th><th scope=col>TCGA-CM-5341-01A-01R-1410-07</th><th scope=col>TCGA-F4-6809-01A-11R-1839-07</th><th scope=col>TCGA-A6-2678-01A-01R-0821-07</th><th scope=col>TCGA-A6-6653-01A-11R-1774-07</th></tr>\n",
              "</thead>\n",
              "<tbody>\n",
              "\t<tr><th scope=row>ENSG00000000003</th><td>12.887411</td><td>12.755722</td><td>11.764457</td><td>12.929998</td><td>12.837037</td><td>11.843529</td><td>12.182394</td><td>11.644307</td><td>12.381273</td><td>12.580023</td><td>⋯</td><td>11.212496</td><td>12.918677</td><td>10.304922</td><td>9.677720</td><td>11.460968</td><td>12.561765</td><td>13.155134</td><td>12.827740</td><td>11.997532</td><td>11.432542</td></tr>\n",
              "\t<tr><th scope=row>ENSG00000000005</th><td> 5.087463</td><td> 5.209453</td><td> 5.044394</td><td> 4.000000</td><td> 4.954196</td><td> 5.392317</td><td> 5.781360</td><td> 5.321928</td><td> 5.491853</td><td> 5.954196</td><td>⋯</td><td> 7.794416</td><td> 6.209453</td><td> 2.321928</td><td>3.459432</td><td> 1.000000</td><td> 5.700440</td><td> 4.523562</td><td> 8.082149</td><td> 5.285402</td><td> 2.584963</td></tr>\n",
              "\t<tr><th scope=row>ENSG00000000419</th><td>10.274960</td><td>10.681238</td><td>10.101976</td><td>10.193525</td><td>10.721099</td><td> 9.961450</td><td>10.676839</td><td> 9.703904</td><td>10.221587</td><td>10.302639</td><td>⋯</td><td>10.779719</td><td>11.329796</td><td> 9.705632</td><td>8.647458</td><td> 9.238405</td><td>10.775610</td><td>11.652845</td><td>11.836839</td><td>10.623881</td><td> 9.584963</td></tr>\n",
              "\t<tr><th scope=row>ENSG00000000457</th><td> 9.764872</td><td> 9.958553</td><td> 8.980140</td><td> 9.306062</td><td> 9.562242</td><td> 9.390169</td><td> 9.954196</td><td> 8.573647</td><td> 9.544964</td><td> 9.375039</td><td>⋯</td><td> 9.905387</td><td> 9.233620</td><td> 9.129283</td><td>6.894818</td><td> 7.800900</td><td> 9.709084</td><td> 8.991522</td><td> 9.517669</td><td> 9.290019</td><td> 8.022368</td></tr>\n",
              "\t<tr><th scope=row>ENSG00000000460</th><td> 7.055282</td><td> 7.409391</td><td> 7.499846</td><td> 8.005625</td><td> 7.539159</td><td> 6.727920</td><td> 8.169925</td><td> 6.108524</td><td> 7.149747</td><td> 7.930737</td><td>⋯</td><td> 8.820179</td><td> 8.308339</td><td> 8.700440</td><td>6.321928</td><td> 7.426265</td><td> 8.584963</td><td> 8.108524</td><td> 8.330917</td><td> 8.787903</td><td> 8.285402</td></tr>\n",
              "\t<tr><th scope=row>ENSG00000000938</th><td> 8.228819</td><td> 8.672425</td><td> 9.417853</td><td> 7.948367</td><td> 7.870365</td><td> 7.426265</td><td> 8.335390</td><td> 7.087463</td><td> 7.787903</td><td> 8.682995</td><td>⋯</td><td>11.648807</td><td> 6.754888</td><td> 9.517669</td><td>4.000000</td><td> 7.918863</td><td> 5.672425</td><td> 8.233620</td><td> 9.019591</td><td> 7.442943</td><td> 7.629357</td></tr>\n",
              "</tbody>\n",
              "</table>\n"
            ],
            "text/markdown": "\nA matrix: 6 × 40 of type dbl\n\n| <!--/--> | TCGA-AA-3662-11A-01R-1723-07 | TCGA-AA-3531-11A-01R-A32Z-07 | TCGA-AZ-6603-11A-02R-1839-07 | TCGA-AZ-6599-11A-01R-1774-07 | TCGA-AA-3655-11A-01R-1723-07 | TCGA-A6-5665-11A-01R-1653-07 | TCGA-A6-2686-11A-01R-A32Z-07 | TCGA-A6-5659-11A-01R-1653-07 | TCGA-A6-2684-11A-01R-A32Z-07 | TCGA-AZ-6598-11A-01R-1774-07 | ⋯ | TCGA-F4-6703-01A-11R-1839-07 | TCGA-AD-6965-01A-11R-1928-07 | TCGA-A6-6781-01B-06R-A277-07 | TCGA-AA-A029-01A-01R-A00A-07 | TCGA-AA-3510-01A-01R-1410-07 | TCGA-AY-A71X-01A-12R-A37K-07 | TCGA-CM-5341-01A-01R-1410-07 | TCGA-F4-6809-01A-11R-1839-07 | TCGA-A6-2678-01A-01R-0821-07 | TCGA-A6-6653-01A-11R-1774-07 |\n|---|---|---|---|---|---|---|---|---|---|---|---|---|---|---|---|---|---|---|---|---|---|\n| ENSG00000000003 | 12.887411 | 12.755722 | 11.764457 | 12.929998 | 12.837037 | 11.843529 | 12.182394 | 11.644307 | 12.381273 | 12.580023 | ⋯ | 11.212496 | 12.918677 | 10.304922 | 9.677720 | 11.460968 | 12.561765 | 13.155134 | 12.827740 | 11.997532 | 11.432542 |\n| ENSG00000000005 |  5.087463 |  5.209453 |  5.044394 |  4.000000 |  4.954196 |  5.392317 |  5.781360 |  5.321928 |  5.491853 |  5.954196 | ⋯ |  7.794416 |  6.209453 |  2.321928 | 3.459432 |  1.000000 |  5.700440 |  4.523562 |  8.082149 |  5.285402 |  2.584963 |\n| ENSG00000000419 | 10.274960 | 10.681238 | 10.101976 | 10.193525 | 10.721099 |  9.961450 | 10.676839 |  9.703904 | 10.221587 | 10.302639 | ⋯ | 10.779719 | 11.329796 |  9.705632 | 8.647458 |  9.238405 | 10.775610 | 11.652845 | 11.836839 | 10.623881 |  9.584963 |\n| ENSG00000000457 |  9.764872 |  9.958553 |  8.980140 |  9.306062 |  9.562242 |  9.390169 |  9.954196 |  8.573647 |  9.544964 |  9.375039 | ⋯ |  9.905387 |  9.233620 |  9.129283 | 6.894818 |  7.800900 |  9.709084 |  8.991522 |  9.517669 |  9.290019 |  8.022368 |\n| ENSG00000000460 |  7.055282 |  7.409391 |  7.499846 |  8.005625 |  7.539159 |  6.727920 |  8.169925 |  6.108524 |  7.149747 |  7.930737 | ⋯ |  8.820179 |  8.308339 |  8.700440 | 6.321928 |  7.426265 |  8.584963 |  8.108524 |  8.330917 |  8.787903 |  8.285402 |\n| ENSG00000000938 |  8.228819 |  8.672425 |  9.417853 |  7.948367 |  7.870365 |  7.426265 |  8.335390 |  7.087463 |  7.787903 |  8.682995 | ⋯ | 11.648807 |  6.754888 |  9.517669 | 4.000000 |  7.918863 |  5.672425 |  8.233620 |  9.019591 |  7.442943 |  7.629357 |\n\n",
            "text/latex": "A matrix: 6 × 40 of type dbl\n\\begin{tabular}{r|lllllllllllllllllllll}\n  & TCGA-AA-3662-11A-01R-1723-07 & TCGA-AA-3531-11A-01R-A32Z-07 & TCGA-AZ-6603-11A-02R-1839-07 & TCGA-AZ-6599-11A-01R-1774-07 & TCGA-AA-3655-11A-01R-1723-07 & TCGA-A6-5665-11A-01R-1653-07 & TCGA-A6-2686-11A-01R-A32Z-07 & TCGA-A6-5659-11A-01R-1653-07 & TCGA-A6-2684-11A-01R-A32Z-07 & TCGA-AZ-6598-11A-01R-1774-07 & ⋯ & TCGA-F4-6703-01A-11R-1839-07 & TCGA-AD-6965-01A-11R-1928-07 & TCGA-A6-6781-01B-06R-A277-07 & TCGA-AA-A029-01A-01R-A00A-07 & TCGA-AA-3510-01A-01R-1410-07 & TCGA-AY-A71X-01A-12R-A37K-07 & TCGA-CM-5341-01A-01R-1410-07 & TCGA-F4-6809-01A-11R-1839-07 & TCGA-A6-2678-01A-01R-0821-07 & TCGA-A6-6653-01A-11R-1774-07\\\\\n\\hline\n\tENSG00000000003 & 12.887411 & 12.755722 & 11.764457 & 12.929998 & 12.837037 & 11.843529 & 12.182394 & 11.644307 & 12.381273 & 12.580023 & ⋯ & 11.212496 & 12.918677 & 10.304922 & 9.677720 & 11.460968 & 12.561765 & 13.155134 & 12.827740 & 11.997532 & 11.432542\\\\\n\tENSG00000000005 &  5.087463 &  5.209453 &  5.044394 &  4.000000 &  4.954196 &  5.392317 &  5.781360 &  5.321928 &  5.491853 &  5.954196 & ⋯ &  7.794416 &  6.209453 &  2.321928 & 3.459432 &  1.000000 &  5.700440 &  4.523562 &  8.082149 &  5.285402 &  2.584963\\\\\n\tENSG00000000419 & 10.274960 & 10.681238 & 10.101976 & 10.193525 & 10.721099 &  9.961450 & 10.676839 &  9.703904 & 10.221587 & 10.302639 & ⋯ & 10.779719 & 11.329796 &  9.705632 & 8.647458 &  9.238405 & 10.775610 & 11.652845 & 11.836839 & 10.623881 &  9.584963\\\\\n\tENSG00000000457 &  9.764872 &  9.958553 &  8.980140 &  9.306062 &  9.562242 &  9.390169 &  9.954196 &  8.573647 &  9.544964 &  9.375039 & ⋯ &  9.905387 &  9.233620 &  9.129283 & 6.894818 &  7.800900 &  9.709084 &  8.991522 &  9.517669 &  9.290019 &  8.022368\\\\\n\tENSG00000000460 &  7.055282 &  7.409391 &  7.499846 &  8.005625 &  7.539159 &  6.727920 &  8.169925 &  6.108524 &  7.149747 &  7.930737 & ⋯ &  8.820179 &  8.308339 &  8.700440 & 6.321928 &  7.426265 &  8.584963 &  8.108524 &  8.330917 &  8.787903 &  8.285402\\\\\n\tENSG00000000938 &  8.228819 &  8.672425 &  9.417853 &  7.948367 &  7.870365 &  7.426265 &  8.335390 &  7.087463 &  7.787903 &  8.682995 & ⋯ & 11.648807 &  6.754888 &  9.517669 & 4.000000 &  7.918863 &  5.672425 &  8.233620 &  9.019591 &  7.442943 &  7.629357\\\\\n\\end{tabular}\n",
            "text/plain": [
              "                TCGA-AA-3662-11A-01R-1723-07 TCGA-AA-3531-11A-01R-A32Z-07\n",
              "ENSG00000000003 12.887411                    12.755722                   \n",
              "ENSG00000000005  5.087463                     5.209453                   \n",
              "ENSG00000000419 10.274960                    10.681238                   \n",
              "ENSG00000000457  9.764872                     9.958553                   \n",
              "ENSG00000000460  7.055282                     7.409391                   \n",
              "ENSG00000000938  8.228819                     8.672425                   \n",
              "                TCGA-AZ-6603-11A-02R-1839-07 TCGA-AZ-6599-11A-01R-1774-07\n",
              "ENSG00000000003 11.764457                    12.929998                   \n",
              "ENSG00000000005  5.044394                     4.000000                   \n",
              "ENSG00000000419 10.101976                    10.193525                   \n",
              "ENSG00000000457  8.980140                     9.306062                   \n",
              "ENSG00000000460  7.499846                     8.005625                   \n",
              "ENSG00000000938  9.417853                     7.948367                   \n",
              "                TCGA-AA-3655-11A-01R-1723-07 TCGA-A6-5665-11A-01R-1653-07\n",
              "ENSG00000000003 12.837037                    11.843529                   \n",
              "ENSG00000000005  4.954196                     5.392317                   \n",
              "ENSG00000000419 10.721099                     9.961450                   \n",
              "ENSG00000000457  9.562242                     9.390169                   \n",
              "ENSG00000000460  7.539159                     6.727920                   \n",
              "ENSG00000000938  7.870365                     7.426265                   \n",
              "                TCGA-A6-2686-11A-01R-A32Z-07 TCGA-A6-5659-11A-01R-1653-07\n",
              "ENSG00000000003 12.182394                    11.644307                   \n",
              "ENSG00000000005  5.781360                     5.321928                   \n",
              "ENSG00000000419 10.676839                     9.703904                   \n",
              "ENSG00000000457  9.954196                     8.573647                   \n",
              "ENSG00000000460  8.169925                     6.108524                   \n",
              "ENSG00000000938  8.335390                     7.087463                   \n",
              "                TCGA-A6-2684-11A-01R-A32Z-07 TCGA-AZ-6598-11A-01R-1774-07 ⋯\n",
              "ENSG00000000003 12.381273                    12.580023                    ⋯\n",
              "ENSG00000000005  5.491853                     5.954196                    ⋯\n",
              "ENSG00000000419 10.221587                    10.302639                    ⋯\n",
              "ENSG00000000457  9.544964                     9.375039                    ⋯\n",
              "ENSG00000000460  7.149747                     7.930737                    ⋯\n",
              "ENSG00000000938  7.787903                     8.682995                    ⋯\n",
              "                TCGA-F4-6703-01A-11R-1839-07 TCGA-AD-6965-01A-11R-1928-07\n",
              "ENSG00000000003 11.212496                    12.918677                   \n",
              "ENSG00000000005  7.794416                     6.209453                   \n",
              "ENSG00000000419 10.779719                    11.329796                   \n",
              "ENSG00000000457  9.905387                     9.233620                   \n",
              "ENSG00000000460  8.820179                     8.308339                   \n",
              "ENSG00000000938 11.648807                     6.754888                   \n",
              "                TCGA-A6-6781-01B-06R-A277-07 TCGA-AA-A029-01A-01R-A00A-07\n",
              "ENSG00000000003 10.304922                    9.677720                    \n",
              "ENSG00000000005  2.321928                    3.459432                    \n",
              "ENSG00000000419  9.705632                    8.647458                    \n",
              "ENSG00000000457  9.129283                    6.894818                    \n",
              "ENSG00000000460  8.700440                    6.321928                    \n",
              "ENSG00000000938  9.517669                    4.000000                    \n",
              "                TCGA-AA-3510-01A-01R-1410-07 TCGA-AY-A71X-01A-12R-A37K-07\n",
              "ENSG00000000003 11.460968                    12.561765                   \n",
              "ENSG00000000005  1.000000                     5.700440                   \n",
              "ENSG00000000419  9.238405                    10.775610                   \n",
              "ENSG00000000457  7.800900                     9.709084                   \n",
              "ENSG00000000460  7.426265                     8.584963                   \n",
              "ENSG00000000938  7.918863                     5.672425                   \n",
              "                TCGA-CM-5341-01A-01R-1410-07 TCGA-F4-6809-01A-11R-1839-07\n",
              "ENSG00000000003 13.155134                    12.827740                   \n",
              "ENSG00000000005  4.523562                     8.082149                   \n",
              "ENSG00000000419 11.652845                    11.836839                   \n",
              "ENSG00000000457  8.991522                     9.517669                   \n",
              "ENSG00000000460  8.108524                     8.330917                   \n",
              "ENSG00000000938  8.233620                     9.019591                   \n",
              "                TCGA-A6-2678-01A-01R-0821-07 TCGA-A6-6653-01A-11R-1774-07\n",
              "ENSG00000000003 11.997532                    11.432542                   \n",
              "ENSG00000000005  5.285402                     2.584963                   \n",
              "ENSG00000000419 10.623881                     9.584963                   \n",
              "ENSG00000000457  9.290019                     8.022368                   \n",
              "ENSG00000000460  8.787903                     8.285402                   \n",
              "ENSG00000000938  7.442943                     7.629357                   "
            ]
          },
          "metadata": {}
        }
      ],
      "source": [
        "coad_log2norm <- log2(coad_filter + 1)\n",
        "\n",
        "write.csv(coad_log2norm, \"COAD_Log2Normalized_matrix.csv\")\n",
        "\n",
        "tumor_samples_log2 <- coad_log2norm[,tumor_samples$cases]\n",
        "normal_samples_log2 <- coad_log2norm[,normal_samples$cases]\n",
        "\n",
        "dim(coad_log2norm)\n",
        "dim(tumor_samples_log2)\n",
        "dim(normal_samples_log2)\n",
        "\n",
        "head(coad_log2norm)"
      ]
    },
    {
      "cell_type": "markdown",
      "metadata": {
        "id": "q1ORkgUbS3yM"
      },
      "source": [
        "##**Differential Gene Expression Analysis of TCGA-COAD data**"
      ]
    },
    {
      "cell_type": "markdown",
      "metadata": {
        "id": "diRtawT3EViM"
      },
      "source": [
        "### Perform differetial expression analysis using TCGAanalyze_DEA method"
      ]
    },
    {
      "cell_type": "code",
      "execution_count": 19,
      "metadata": {
        "colab": {
          "base_uri": "https://localhost:8080/"
        },
        "id": "pgqJbtC148Hz",
        "outputId": "17af87ef-611a-4753-c4e4-020174825799"
      },
      "outputs": [
        {
          "output_type": "stream",
          "name": "stderr",
          "text": [
            "Batch correction skipped since no factors provided\n",
            "\n",
            "----------------------- DEA -------------------------------\n",
            "\n",
            "o 20 samples in Cond1type Primary Tumor\n",
            "\n",
            "o 20 samples in Cond2type Solid Tissue Normal\n",
            "\n",
            "o 25104 features as miRNA or genes \n",
            "\n",
            "This may take some minutes...\n",
            "\n",
            "----------------------- END DEA -------------------------------\n",
            "\n"
          ]
        }
      ],
      "source": [
        "# Perform differential gene expression analysis\n",
        "coad_dge_results <- TCGAanalyze_DEA(\n",
        "  mat1 = tumor_samples_log2,       # Tumor expression matrix\n",
        "  mat2 = normal_samples_log2,      # Normal expression matrix\n",
        "  Cond1type = \"Primary Tumor\", # Condition label for normal samples\n",
        "  Cond2type = \"Solid Tissue Normal\", # Condition label for tumor samples\n",
        "  pipeline = \"edgeR\",\n",
        "  fdr.cut = 0.01 ,\n",
        "  logFC.cut = 2,\n",
        "  method = \"glmLRT\"        # Using glmLRT method for DGE\n",
        ")"
      ]
    },
    {
      "cell_type": "code",
      "execution_count": 20,
      "metadata": {
        "id": "pvbcLQcD_sDF"
      },
      "outputs": [],
      "source": [
        "write.csv(coad_dge_results,\"Coad_DGE_results.csv\")"
      ]
    },
    {
      "cell_type": "markdown",
      "metadata": {
        "id": "DV1RkWZtEtVJ"
      },
      "source": [
        "### Analyze levels from DEA results using TCGAanalyze_LevelTab method"
      ]
    },
    {
      "cell_type": "code",
      "execution_count": 21,
      "metadata": {
        "colab": {
          "base_uri": "https://localhost:8080/",
          "height": 286
        },
        "id": "KF9CXekX-7Mm",
        "outputId": "7fb8f4ac-d860-4d77-f93e-9e6aa3fbea76"
      },
      "outputs": [
        {
          "output_type": "display_data",
          "data": {
            "text/html": [
              "<table class=\"dataframe\">\n",
              "<caption>A data.frame: 6 × 8</caption>\n",
              "<thead>\n",
              "\t<tr><th></th><th scope=col>mRNA</th><th scope=col>logFC</th><th scope=col>FDR</th><th scope=col>Delta</th><th scope=col>Primary Tumor</th><th scope=col>Solid Tissue Normal</th><th scope=col>start</th><th scope=col>end</th></tr>\n",
              "\t<tr><th></th><th scope=col>&lt;chr&gt;</th><th scope=col>&lt;dbl&gt;</th><th scope=col>&lt;dbl&gt;</th><th scope=col>&lt;dbl&gt;</th><th scope=col>&lt;dbl&gt;</th><th scope=col>&lt;dbl&gt;</th><th scope=col>&lt;int&gt;</th><th scope=col>&lt;int&gt;</th></tr>\n",
              "</thead>\n",
              "<tbody>\n",
              "\t<tr><th scope=row>ENSG00000183034</th><td>ENSG00000183034</td><td>2.967196</td><td>7.505725e-37</td><td>3.905287</td><td>1.3161539</td><td>11.905368</td><td> 74922950</td><td> 74933912</td></tr>\n",
              "\t<tr><th scope=row>ENSG00000110887</th><td>ENSG00000110887</td><td>2.275921</td><td>3.842523e-17</td><td>3.000180</td><td>1.3182264</td><td> 7.334601</td><td>108858932</td><td>108901043</td></tr>\n",
              "\t<tr><th scope=row>ENSG00000125851</th><td>ENSG00000125851</td><td>2.486471</td><td>1.915746e-19</td><td>2.892622</td><td>1.1633444</td><td> 7.577773</td><td> 17226107</td><td> 17484578</td></tr>\n",
              "\t<tr><th scope=row>ENSG00000034971</th><td>ENSG00000034971</td><td>2.734225</td><td>1.337342e-21</td><td>2.635313</td><td>0.9638244</td><td> 7.599835</td><td>171635417</td><td>171652688</td></tr>\n",
              "\t<tr><th scope=row>ENSG00000204933</th><td>ENSG00000204933</td><td>2.600668</td><td>1.861084e-19</td><td>2.619809</td><td>1.0073602</td><td> 7.199267</td><td> 43372742</td><td> 43379123</td></tr>\n",
              "\t<tr><th scope=row>ENSG00000108231</th><td>ENSG00000108231</td><td>2.246216</td><td>7.313920e-15</td><td>2.608309</td><td>1.1612010</td><td> 6.384587</td><td> 93757840</td><td> 93806272</td></tr>\n",
              "</tbody>\n",
              "</table>\n"
            ],
            "text/markdown": "\nA data.frame: 6 × 8\n\n| <!--/--> | mRNA &lt;chr&gt; | logFC &lt;dbl&gt; | FDR &lt;dbl&gt; | Delta &lt;dbl&gt; | Primary Tumor &lt;dbl&gt; | Solid Tissue Normal &lt;dbl&gt; | start &lt;int&gt; | end &lt;int&gt; |\n|---|---|---|---|---|---|---|---|---|\n| ENSG00000183034 | ENSG00000183034 | 2.967196 | 7.505725e-37 | 3.905287 | 1.3161539 | 11.905368 |  74922950 |  74933912 |\n| ENSG00000110887 | ENSG00000110887 | 2.275921 | 3.842523e-17 | 3.000180 | 1.3182264 |  7.334601 | 108858932 | 108901043 |\n| ENSG00000125851 | ENSG00000125851 | 2.486471 | 1.915746e-19 | 2.892622 | 1.1633444 |  7.577773 |  17226107 |  17484578 |\n| ENSG00000034971 | ENSG00000034971 | 2.734225 | 1.337342e-21 | 2.635313 | 0.9638244 |  7.599835 | 171635417 | 171652688 |\n| ENSG00000204933 | ENSG00000204933 | 2.600668 | 1.861084e-19 | 2.619809 | 1.0073602 |  7.199267 |  43372742 |  43379123 |\n| ENSG00000108231 | ENSG00000108231 | 2.246216 | 7.313920e-15 | 2.608309 | 1.1612010 |  6.384587 |  93757840 |  93806272 |\n\n",
            "text/latex": "A data.frame: 6 × 8\n\\begin{tabular}{r|llllllll}\n  & mRNA & logFC & FDR & Delta & Primary Tumor & Solid Tissue Normal & start & end\\\\\n  & <chr> & <dbl> & <dbl> & <dbl> & <dbl> & <dbl> & <int> & <int>\\\\\n\\hline\n\tENSG00000183034 & ENSG00000183034 & 2.967196 & 7.505725e-37 & 3.905287 & 1.3161539 & 11.905368 &  74922950 &  74933912\\\\\n\tENSG00000110887 & ENSG00000110887 & 2.275921 & 3.842523e-17 & 3.000180 & 1.3182264 &  7.334601 & 108858932 & 108901043\\\\\n\tENSG00000125851 & ENSG00000125851 & 2.486471 & 1.915746e-19 & 2.892622 & 1.1633444 &  7.577773 &  17226107 &  17484578\\\\\n\tENSG00000034971 & ENSG00000034971 & 2.734225 & 1.337342e-21 & 2.635313 & 0.9638244 &  7.599835 & 171635417 & 171652688\\\\\n\tENSG00000204933 & ENSG00000204933 & 2.600668 & 1.861084e-19 & 2.619809 & 1.0073602 &  7.199267 &  43372742 &  43379123\\\\\n\tENSG00000108231 & ENSG00000108231 & 2.246216 & 7.313920e-15 & 2.608309 & 1.1612010 &  6.384587 &  93757840 &  93806272\\\\\n\\end{tabular}\n",
            "text/plain": [
              "                mRNA            logFC    FDR          Delta    Primary Tumor\n",
              "ENSG00000183034 ENSG00000183034 2.967196 7.505725e-37 3.905287 1.3161539    \n",
              "ENSG00000110887 ENSG00000110887 2.275921 3.842523e-17 3.000180 1.3182264    \n",
              "ENSG00000125851 ENSG00000125851 2.486471 1.915746e-19 2.892622 1.1633444    \n",
              "ENSG00000034971 ENSG00000034971 2.734225 1.337342e-21 2.635313 0.9638244    \n",
              "ENSG00000204933 ENSG00000204933 2.600668 1.861084e-19 2.619809 1.0073602    \n",
              "ENSG00000108231 ENSG00000108231 2.246216 7.313920e-15 2.608309 1.1612010    \n",
              "                Solid Tissue Normal start     end      \n",
              "ENSG00000183034 11.905368            74922950  74933912\n",
              "ENSG00000110887  7.334601           108858932 108901043\n",
              "ENSG00000125851  7.577773            17226107  17484578\n",
              "ENSG00000034971  7.599835           171635417 171652688\n",
              "ENSG00000204933  7.199267            43372742  43379123\n",
              "ENSG00000108231  6.384587            93757840  93806272"
            ]
          },
          "metadata": {}
        }
      ],
      "source": [
        "coad_dge_levels <- TCGAanalyze_LevelTab(\n",
        "                    coad_dge_results,\n",
        "                    \"Primary Tumor\",\n",
        "                    \"Solid Tissue Normal\",\n",
        "                    tumor_samples_log2,\n",
        "                    normal_samples_log2)\n",
        "head(coad_dge_levels)\n",
        "write.csv(coad_dge_levels,\"Coad_DGE_levels.csv\")\n",
        "\n"
      ]
    },
    {
      "cell_type": "markdown",
      "metadata": {
        "id": "GRhvbJIuYr_P"
      },
      "source": [
        "## Filter upregulated and downregulated genes based logFC cutoff"
      ]
    },
    {
      "cell_type": "code",
      "execution_count": 22,
      "metadata": {
        "colab": {
          "base_uri": "https://localhost:8080/",
          "height": 86
        },
        "id": "d9Hz496fOTwg",
        "outputId": "6694d0f0-465c-43c6-aaa4-1133ee2b00eb"
      },
      "outputs": [
        {
          "output_type": "display_data",
          "data": {
            "text/html": [
              "<style>\n",
              ".list-inline {list-style: none; margin:0; padding: 0}\n",
              ".list-inline>li {display: inline-block}\n",
              ".list-inline>li:not(:last-child)::after {content: \"\\00b7\"; padding: 0 .5ex}\n",
              "</style>\n",
              "<ol class=list-inline><li>'GeneIDs'</li><li>'logFC'</li><li>'FDR'</li><li>'Delta'</li><li>'Primary Tumor'</li><li>'Solid Tissue Normal'</li><li>'start'</li><li>'end'</li></ol>\n"
            ],
            "text/markdown": "1. 'GeneIDs'\n2. 'logFC'\n3. 'FDR'\n4. 'Delta'\n5. 'Primary Tumor'\n6. 'Solid Tissue Normal'\n7. 'start'\n8. 'end'\n\n\n",
            "text/latex": "\\begin{enumerate*}\n\\item 'GeneIDs'\n\\item 'logFC'\n\\item 'FDR'\n\\item 'Delta'\n\\item 'Primary Tumor'\n\\item 'Solid Tissue Normal'\n\\item 'start'\n\\item 'end'\n\\end{enumerate*}\n",
            "text/plain": [
              "[1] \"GeneIDs\"             \"logFC\"               \"FDR\"                \n",
              "[4] \"Delta\"               \"Primary Tumor\"       \"Solid Tissue Normal\"\n",
              "[7] \"start\"               \"end\"                "
            ]
          },
          "metadata": {}
        },
        {
          "output_type": "display_data",
          "data": {
            "text/html": [
              "<style>\n",
              ".list-inline {list-style: none; margin:0; padding: 0}\n",
              ".list-inline>li {display: inline-block}\n",
              ".list-inline>li:not(:last-child)::after {content: \"\\00b7\"; padding: 0 .5ex}\n",
              "</style>\n",
              "<ol class=list-inline><li>'GeneIDs'</li><li>'logFC'</li><li>'FDR'</li><li>'Delta'</li><li>'Primary Tumor'</li><li>'Solid Tissue Normal'</li><li>'start'</li><li>'end'</li></ol>\n"
            ],
            "text/markdown": "1. 'GeneIDs'\n2. 'logFC'\n3. 'FDR'\n4. 'Delta'\n5. 'Primary Tumor'\n6. 'Solid Tissue Normal'\n7. 'start'\n8. 'end'\n\n\n",
            "text/latex": "\\begin{enumerate*}\n\\item 'GeneIDs'\n\\item 'logFC'\n\\item 'FDR'\n\\item 'Delta'\n\\item 'Primary Tumor'\n\\item 'Solid Tissue Normal'\n\\item 'start'\n\\item 'end'\n\\end{enumerate*}\n",
            "text/plain": [
              "[1] \"GeneIDs\"             \"logFC\"               \"FDR\"                \n",
              "[4] \"Delta\"               \"Primary Tumor\"       \"Solid Tissue Normal\"\n",
              "[7] \"start\"               \"end\"                "
            ]
          },
          "metadata": {}
        },
        {
          "output_type": "display_data",
          "data": {
            "text/html": [
              "<style>\n",
              ".list-inline {list-style: none; margin:0; padding: 0}\n",
              ".list-inline>li {display: inline-block}\n",
              ".list-inline>li:not(:last-child)::after {content: \"\\00b7\"; padding: 0 .5ex}\n",
              "</style>\n",
              "<ol class=list-inline><li>106</li><li>8</li></ol>\n"
            ],
            "text/markdown": "1. 106\n2. 8\n\n\n",
            "text/latex": "\\begin{enumerate*}\n\\item 106\n\\item 8\n\\end{enumerate*}\n",
            "text/plain": [
              "[1] 106   8"
            ]
          },
          "metadata": {}
        },
        {
          "output_type": "display_data",
          "data": {
            "text/html": [
              "<style>\n",
              ".list-inline {list-style: none; margin:0; padding: 0}\n",
              ".list-inline>li {display: inline-block}\n",
              ".list-inline>li:not(:last-child)::after {content: \"\\00b7\"; padding: 0 .5ex}\n",
              "</style>\n",
              "<ol class=list-inline><li>312</li><li>8</li></ol>\n"
            ],
            "text/markdown": "1. 312\n2. 8\n\n\n",
            "text/latex": "\\begin{enumerate*}\n\\item 312\n\\item 8\n\\end{enumerate*}\n",
            "text/plain": [
              "[1] 312   8"
            ]
          },
          "metadata": {}
        }
      ],
      "source": [
        "#separate upregulated and downregulated genes based on logFC cutoff\n",
        "upreg_genes <- coad_dge_levels[coad_dge_levels$logFC > 2,]\n",
        "dnreg_genes <-coad_dge_levels[coad_dge_levels$logFC < -2,]\n",
        "\n",
        "# change 1st colnames to \"GeneIDs\"\n",
        "colnames(upreg_genes)[1] <- \"GeneIDs\"\n",
        "colnames(dnreg_genes)[1] <- \"GeneIDs\"\n",
        "\n",
        "colnames(upreg_genes)\n",
        "colnames(dnreg_genes)\n",
        "\n",
        "dim(upreg_genes)\n",
        "dim(dnreg_genes)\n",
        "\n",
        "#download upregulated and downregulated genes\n",
        "write.csv(upreg_genes,\"Uregulated_genes.csv\")\n",
        "write.csv(dnreg_genes,\"Downregulated_genes.csv\")"
      ]
    },
    {
      "cell_type": "markdown",
      "metadata": {
        "id": "OkzvvU2NEODy"
      },
      "source": [
        "## **Volcano plot of logFC vs -log2FDR**"
      ]
    },
    {
      "cell_type": "code",
      "execution_count": 25,
      "metadata": {
        "colab": {
          "base_uri": "https://localhost:8080/"
        },
        "id": "dbziwuf8Q2eg",
        "outputId": "b9fc5df7-4d16-47fc-b4c7-87e2f1f98a6f",
        "collapsed": true
      },
      "outputs": [
        {
          "output_type": "stream",
          "name": "stderr",
          "text": [
            "Saving file as: volcano.pdf\n",
            "\n",
            "Warning message:\n",
            "“ggrepel: 414 unlabeled data points (too many overlaps). Consider increasing max.overlaps”\n"
          ]
        }
      ],
      "source": [
        "# Create a volcano plot to visualize DGE results\n",
        "# Assuming DGE_results contains the necessary columns: logFC and FDR\n",
        "TCGAVisualize_volcano(\n",
        "  x = coad_dge_results$logFC,       # Log2 fold changes\n",
        "  y = coad_dge_results$FDR,         # FDR or adjusted p-values\n",
        "  ylab = \"-log10 FDR\", # Y-axis label\n",
        "  xlab = \"Log2 Fold Change\",        # X-axis label\n",
        "  title = \"Volcano Plot: Differential Gene Expression\", # Main title\n",
        "  legend = \"FDR < 0.01\",            # Legend title\n",
        "  x.cut = 1,                        # Fold change cutoff\n",
        "  y.cut = 0.05,                     # p-value cutoff\n",
        "  color = c(\"grey\", \"red\", \"blue\"), # Colors for not significant, upregulated, and downregulated\n",
        "  names = rownames(coad_dge_results),    # Gene names to label the significant genes\n",
        "  names.fill = TRUE,                # Fill the names in a colored box\n",
        "  show.names = \"significant\"       # Only show names for significant genes\n",
        "  filename = \"Volcano_DEA_CoadTCGA.png\"     # Output file name\n",
        ")"
      ]
    },
    {
      "cell_type": "code",
      "execution_count": 26,
      "metadata": {
        "id": "eYjIlsw9AIvL",
        "colab": {
          "base_uri": "https://localhost:8080/",
          "height": 437
        },
        "outputId": "658809da-7685-4023-aac8-7b153495b277"
      },
      "outputs": [
        {
          "output_type": "display_data",
          "data": {
            "text/plain": [
              "plot without title"
            ],
            "image/png": "[encoded data removed]"
          },
          "metadata": {
            "image/png": {
              "width": 420,
              "height": 420
            }
          }
        }
      ],
      "source": [
        "plot(coad_dge_results$logFC,-log10(coad_dge_results$FDR))"
      ]
    },
    {
      "cell_type": "markdown",
      "metadata": {
        "id": "8fWl_W6vF7Y1"
      },
      "source": [
        "#**Heatmap generation by sample clustering**"
      ]
    },
    {
      "cell_type": "code",
      "execution_count": 28,
      "metadata": {
        "id": "1QFjh82XF6fe",
        "colab": {
          "base_uri": "https://localhost:8080/",
          "height": 304
        },
        "outputId": "5e27f16c-567a-4410-d84a-17c41a82f438"
      },
      "outputs": [
        {
          "output_type": "display_data",
          "data": {
            "text/html": [
              "<style>\n",
              ".list-inline {list-style: none; margin:0; padding: 0}\n",
              ".list-inline>li {display: inline-block}\n",
              ".list-inline>li:not(:last-child)::after {content: \"\\00b7\"; padding: 0 .5ex}\n",
              "</style>\n",
              "<ol class=list-inline><li>418</li><li>8</li></ol>\n"
            ],
            "text/markdown": "1. 418\n2. 8\n\n\n",
            "text/latex": "\\begin{enumerate*}\n\\item 418\n\\item 8\n\\end{enumerate*}\n",
            "text/plain": [
              "[1] 418   8"
            ]
          },
          "metadata": {}
        },
        {
          "output_type": "display_data",
          "data": {
            "text/html": [
              "<table class=\"dataframe\">\n",
              "<caption>A data.frame: 6 × 8</caption>\n",
              "<thead>\n",
              "\t<tr><th></th><th scope=col>mRNA</th><th scope=col>logFC</th><th scope=col>FDR</th><th scope=col>Delta</th><th scope=col>Primary Tumor</th><th scope=col>Solid Tissue Normal</th><th scope=col>start</th><th scope=col>end</th></tr>\n",
              "\t<tr><th></th><th scope=col>&lt;chr&gt;</th><th scope=col>&lt;dbl&gt;</th><th scope=col>&lt;dbl&gt;</th><th scope=col>&lt;dbl&gt;</th><th scope=col>&lt;dbl&gt;</th><th scope=col>&lt;dbl&gt;</th><th scope=col>&lt;int&gt;</th><th scope=col>&lt;int&gt;</th></tr>\n",
              "</thead>\n",
              "<tbody>\n",
              "\t<tr><th scope=row>ENSG00000183034</th><td>ENSG00000183034</td><td>2.967196</td><td>7.505725e-37</td><td>3.905287</td><td>1.3161539</td><td>11.905368</td><td> 74922950</td><td> 74933912</td></tr>\n",
              "\t<tr><th scope=row>ENSG00000110887</th><td>ENSG00000110887</td><td>2.275921</td><td>3.842523e-17</td><td>3.000180</td><td>1.3182264</td><td> 7.334601</td><td>108858932</td><td>108901043</td></tr>\n",
              "\t<tr><th scope=row>ENSG00000125851</th><td>ENSG00000125851</td><td>2.486471</td><td>1.915746e-19</td><td>2.892622</td><td>1.1633444</td><td> 7.577773</td><td> 17226107</td><td> 17484578</td></tr>\n",
              "\t<tr><th scope=row>ENSG00000034971</th><td>ENSG00000034971</td><td>2.734225</td><td>1.337342e-21</td><td>2.635313</td><td>0.9638244</td><td> 7.599835</td><td>171635417</td><td>171652688</td></tr>\n",
              "\t<tr><th scope=row>ENSG00000204933</th><td>ENSG00000204933</td><td>2.600668</td><td>1.861084e-19</td><td>2.619809</td><td>1.0073602</td><td> 7.199267</td><td> 43372742</td><td> 43379123</td></tr>\n",
              "\t<tr><th scope=row>ENSG00000108231</th><td>ENSG00000108231</td><td>2.246216</td><td>7.313920e-15</td><td>2.608309</td><td>1.1612010</td><td> 6.384587</td><td> 93757840</td><td> 93806272</td></tr>\n",
              "</tbody>\n",
              "</table>\n"
            ],
            "text/markdown": "\nA data.frame: 6 × 8\n\n| <!--/--> | mRNA &lt;chr&gt; | logFC &lt;dbl&gt; | FDR &lt;dbl&gt; | Delta &lt;dbl&gt; | Primary Tumor &lt;dbl&gt; | Solid Tissue Normal &lt;dbl&gt; | start &lt;int&gt; | end &lt;int&gt; |\n|---|---|---|---|---|---|---|---|---|\n| ENSG00000183034 | ENSG00000183034 | 2.967196 | 7.505725e-37 | 3.905287 | 1.3161539 | 11.905368 |  74922950 |  74933912 |\n| ENSG00000110887 | ENSG00000110887 | 2.275921 | 3.842523e-17 | 3.000180 | 1.3182264 |  7.334601 | 108858932 | 108901043 |\n| ENSG00000125851 | ENSG00000125851 | 2.486471 | 1.915746e-19 | 2.892622 | 1.1633444 |  7.577773 |  17226107 |  17484578 |\n| ENSG00000034971 | ENSG00000034971 | 2.734225 | 1.337342e-21 | 2.635313 | 0.9638244 |  7.599835 | 171635417 | 171652688 |\n| ENSG00000204933 | ENSG00000204933 | 2.600668 | 1.861084e-19 | 2.619809 | 1.0073602 |  7.199267 |  43372742 |  43379123 |\n| ENSG00000108231 | ENSG00000108231 | 2.246216 | 7.313920e-15 | 2.608309 | 1.1612010 |  6.384587 |  93757840 |  93806272 |\n\n",
            "text/latex": "A data.frame: 6 × 8\n\\begin{tabular}{r|llllllll}\n  & mRNA & logFC & FDR & Delta & Primary Tumor & Solid Tissue Normal & start & end\\\\\n  & <chr> & <dbl> & <dbl> & <dbl> & <dbl> & <dbl> & <int> & <int>\\\\\n\\hline\n\tENSG00000183034 & ENSG00000183034 & 2.967196 & 7.505725e-37 & 3.905287 & 1.3161539 & 11.905368 &  74922950 &  74933912\\\\\n\tENSG00000110887 & ENSG00000110887 & 2.275921 & 3.842523e-17 & 3.000180 & 1.3182264 &  7.334601 & 108858932 & 108901043\\\\\n\tENSG00000125851 & ENSG00000125851 & 2.486471 & 1.915746e-19 & 2.892622 & 1.1633444 &  7.577773 &  17226107 &  17484578\\\\\n\tENSG00000034971 & ENSG00000034971 & 2.734225 & 1.337342e-21 & 2.635313 & 0.9638244 &  7.599835 & 171635417 & 171652688\\\\\n\tENSG00000204933 & ENSG00000204933 & 2.600668 & 1.861084e-19 & 2.619809 & 1.0073602 &  7.199267 &  43372742 &  43379123\\\\\n\tENSG00000108231 & ENSG00000108231 & 2.246216 & 7.313920e-15 & 2.608309 & 1.1612010 &  6.384587 &  93757840 &  93806272\\\\\n\\end{tabular}\n",
            "text/plain": [
              "                mRNA            logFC    FDR          Delta    Primary Tumor\n",
              "ENSG00000183034 ENSG00000183034 2.967196 7.505725e-37 3.905287 1.3161539    \n",
              "ENSG00000110887 ENSG00000110887 2.275921 3.842523e-17 3.000180 1.3182264    \n",
              "ENSG00000125851 ENSG00000125851 2.486471 1.915746e-19 2.892622 1.1633444    \n",
              "ENSG00000034971 ENSG00000034971 2.734225 1.337342e-21 2.635313 0.9638244    \n",
              "ENSG00000204933 ENSG00000204933 2.600668 1.861084e-19 2.619809 1.0073602    \n",
              "ENSG00000108231 ENSG00000108231 2.246216 7.313920e-15 2.608309 1.1612010    \n",
              "                Solid Tissue Normal start     end      \n",
              "ENSG00000183034 11.905368            74922950  74933912\n",
              "ENSG00000110887  7.334601           108858932 108901043\n",
              "ENSG00000125851  7.577773            17226107  17484578\n",
              "ENSG00000034971  7.599835           171635417 171652688\n",
              "ENSG00000204933  7.199267            43372742  43379123\n",
              "ENSG00000108231  6.384587            93757840  93806272"
            ]
          },
          "metadata": {}
        }
      ],
      "source": [
        "dim(coad_dge_levels)\n",
        "head(coad_dge_levels)"
      ]
    },
    {
      "cell_type": "code",
      "execution_count": 29,
      "metadata": {
        "id": "Ye0rEY-aEANm"
      },
      "outputs": [],
      "source": [
        "# take data from coad_log2norm matrix with rownames by coad_dge_levels\n",
        "heatmap_data <- head(coad_log2norm[rownames(coad_dge_levels),])"
      ]
    },
    {
      "cell_type": "code",
      "execution_count": 30,
      "metadata": {
        "id": "HNXnuKhhGgQl"
      },
      "outputs": [],
      "source": [
        "# color the plot by kind of tumor\n",
        "cancer_type <- c(rep(\"Primary Tumor\",20), rep(\"Solid Tissue Normal\",20))\n"
      ]
    },
    {
      "cell_type": "code",
      "execution_count": 31,
      "metadata": {
        "id": "X_zgi0DBG924"
      },
      "outputs": [],
      "source": [
        "color_code <- c(rep(\"Primary Tumor\",20), rep(\"Solid Tissue Normal\",20))"
      ]
    },
    {
      "cell_type": "code",
      "execution_count": 32,
      "metadata": {
        "id": "9ATKYYcMFqFt"
      },
      "outputs": [],
      "source": [
        "color_code <- c()\n",
        "\n",
        "for(i in cancer_type ){\n",
        "  if(i == \"Primary Tumor\"){\n",
        "    color_code <- c(color_code,\"red\")\n",
        "  }else{\n",
        "     color_code <- c(color_code,\"blue\")\n",
        "  }\n",
        "}"
      ]
    },
    {
      "cell_type": "code",
      "execution_count": 33,
      "metadata": {
        "id": "afs6RwXLJ-yF",
        "colab": {
          "base_uri": "https://localhost:8080/",
          "height": 52
        },
        "outputId": "472b543c-7c9b-4c59-c823-1d8223bba191"
      },
      "outputs": [
        {
          "output_type": "display_data",
          "data": {
            "text/html": [
              "<style>\n",
              ".list-inline {list-style: none; margin:0; padding: 0}\n",
              ".list-inline>li {display: inline-block}\n",
              ".list-inline>li:not(:last-child)::after {content: \"\\00b7\"; padding: 0 .5ex}\n",
              "</style>\n",
              "<ol class=list-inline><li>'red'</li><li>'red'</li><li>'red'</li><li>'red'</li><li>'red'</li><li>'red'</li><li>'red'</li><li>'red'</li><li>'red'</li><li>'red'</li><li>'red'</li><li>'red'</li><li>'red'</li><li>'red'</li><li>'red'</li><li>'red'</li><li>'red'</li><li>'red'</li><li>'red'</li><li>'red'</li><li>'blue'</li><li>'blue'</li><li>'blue'</li><li>'blue'</li><li>'blue'</li><li>'blue'</li><li>'blue'</li><li>'blue'</li><li>'blue'</li><li>'blue'</li><li>'blue'</li><li>'blue'</li><li>'blue'</li><li>'blue'</li><li>'blue'</li><li>'blue'</li><li>'blue'</li><li>'blue'</li><li>'blue'</li><li>'blue'</li></ol>\n"
            ],
            "text/markdown": "1. 'red'\n2. 'red'\n3. 'red'\n4. 'red'\n5. 'red'\n6. 'red'\n7. 'red'\n8. 'red'\n9. 'red'\n10. 'red'\n11. 'red'\n12. 'red'\n13. 'red'\n14. 'red'\n15. 'red'\n16. 'red'\n17. 'red'\n18. 'red'\n19. 'red'\n20. 'red'\n21. 'blue'\n22. 'blue'\n23. 'blue'\n24. 'blue'\n25. 'blue'\n26. 'blue'\n27. 'blue'\n28. 'blue'\n29. 'blue'\n30. 'blue'\n31. 'blue'\n32. 'blue'\n33. 'blue'\n34. 'blue'\n35. 'blue'\n36. 'blue'\n37. 'blue'\n38. 'blue'\n39. 'blue'\n40. 'blue'\n\n\n",
            "text/latex": "\\begin{enumerate*}\n\\item 'red'\n\\item 'red'\n\\item 'red'\n\\item 'red'\n\\item 'red'\n\\item 'red'\n\\item 'red'\n\\item 'red'\n\\item 'red'\n\\item 'red'\n\\item 'red'\n\\item 'red'\n\\item 'red'\n\\item 'red'\n\\item 'red'\n\\item 'red'\n\\item 'red'\n\\item 'red'\n\\item 'red'\n\\item 'red'\n\\item 'blue'\n\\item 'blue'\n\\item 'blue'\n\\item 'blue'\n\\item 'blue'\n\\item 'blue'\n\\item 'blue'\n\\item 'blue'\n\\item 'blue'\n\\item 'blue'\n\\item 'blue'\n\\item 'blue'\n\\item 'blue'\n\\item 'blue'\n\\item 'blue'\n\\item 'blue'\n\\item 'blue'\n\\item 'blue'\n\\item 'blue'\n\\item 'blue'\n\\end{enumerate*}\n",
            "text/plain": [
              " [1] \"red\"  \"red\"  \"red\"  \"red\"  \"red\"  \"red\"  \"red\"  \"red\"  \"red\"  \"red\" \n",
              "[11] \"red\"  \"red\"  \"red\"  \"red\"  \"red\"  \"red\"  \"red\"  \"red\"  \"red\"  \"red\" \n",
              "[21] \"blue\" \"blue\" \"blue\" \"blue\" \"blue\" \"blue\" \"blue\" \"blue\" \"blue\" \"blue\"\n",
              "[31] \"blue\" \"blue\" \"blue\" \"blue\" \"blue\" \"blue\" \"blue\" \"blue\" \"blue\" \"blue\""
            ]
          },
          "metadata": {}
        }
      ],
      "source": [
        "color_code"
      ]
    },
    {
      "cell_type": "code",
      "execution_count": 34,
      "metadata": {
        "id": "0w2rPkXoFp7Q",
        "colab": {
          "base_uri": "https://localhost:8080/",
          "height": 34
        },
        "outputId": "26ed417a-c4b0-4ee2-ff8c-b5c6cc6a46b6"
      },
      "outputs": [
        {
          "output_type": "display_data",
          "data": {
            "text/html": [
              "<strong>pdf:</strong> 2"
            ],
            "text/markdown": "**pdf:** 2",
            "text/latex": "\\textbf{pdf:} 2",
            "text/plain": [
              "pdf \n",
              "  2 "
            ]
          },
          "metadata": {}
        }
      ],
      "source": [
        "# Specify the output file and dimensions for heapmap\n",
        "\n",
        "png(filename = \"SampleCluster_Heatmap_coadTCGA.png\", res = 300, width=1500, height=1200)\n",
        "\n",
        "heatmap.2(\n",
        "            x = as.matrix(heatmap_data),                    # data matrix\n",
        "            dendrogram = \"col\", # Creates both row and column dendrograms\n",
        "            Rowv =F, Colv =T,\n",
        "            scale = \"row\",  # Scale by row (normalize each row)\n",
        "            trace = \"none\",                  # No trace lines inside the heatmap\n",
        "            col = bluered(100),              # Color scheme (you can choose another one)\n",
        "            #margins = c(3, 3),               # Adjust margins\n",
        "            key = TRUE,                      # Show a color key\n",
        "            cexRow = 0.5,                    # Font size for row labels\n",
        "            cexCol = 0.5,    # Font size for column labels\n",
        "            main = \"Sample clusters heatmap\" ,\n",
        "            ColSideColors = color_code\n",
        ")\n",
        "\n",
        "dev.off()"
      ]
    },
    {
      "cell_type": "markdown",
      "metadata": {
        "id": "wtPXSDdCnI00"
      },
      "source": [
        "# **Functional analysis**\n",
        "The analysis was perfomed using **TCGAbiolinks** package, but first the gene names were obtained by runing **useMart()** function from **BiomaRT** package."
      ]
    },
    {
      "cell_type": "code",
      "execution_count": 35,
      "metadata": {
        "collapsed": true,
        "id": "rZsggaDBoWvu",
        "colab": {
          "base_uri": "https://localhost:8080/"
        },
        "outputId": "54f9570d-a5de-4336-d0b6-3ecf9dd45dd7"
      },
      "outputs": [
        {
          "output_type": "stream",
          "name": "stderr",
          "text": [
            "'getOption(\"repos\")' replaces Bioconductor standard repositories, see\n",
            "'help(\"repositories\", package = \"BiocManager\")' for details.\n",
            "Replacement repositories:\n",
            "    CRAN: https://cran.rstudio.com\n",
            "\n",
            "Bioconductor version 3.19 (BiocManager 1.30.25), R 4.4.1 (2024-06-14)\n",
            "\n",
            "Warning message:\n",
            "“package(s) not installed when version(s) same as or greater than current; use\n",
            "  `force = TRUE` to re-install: 'biomaRt'”\n"
          ]
        }
      ],
      "source": [
        "\n",
        "# first install biomaRt package\n",
        "\n",
        "BiocManager::install(\"biomaRt\")\n",
        "library(biomaRt)\n"
      ]
    },
    {
      "cell_type": "code",
      "execution_count": 36,
      "metadata": {
        "id": "7HN6AkaIoauG"
      },
      "outputs": [],
      "source": [
        "# convert genes ID to gene names using biomaRt function\n",
        "mart <- useMart(\"ensembl\",  dataset = \"hsapiens_gene_ensembl\")\n",
        "upreg_genes <- getBM(attributes = c(\"ensembl_gene_id\", \"hgnc_symbol\"),\n",
        "                   filters = \"ensembl_gene_id\",\n",
        "                   values = upreg_genes,\n",
        "                   mart = mart)$hgnc_symbol\n",
        "\n",
        " dnreg_genes <- getBM(attributes = c(\"ensembl_gene_id\", \"hgnc_symbol\"),\n",
        "                   filters = \"ensembl_gene_id\",\n",
        "                   values = dnreg_genes,\n",
        "                   mart = mart)$hgnc_symbol"
      ]
    },
    {
      "cell_type": "code",
      "execution_count": 37,
      "metadata": {
        "id": "Kk_mraNioxme"
      },
      "outputs": [],
      "source": [
        "#download upregulated and downregulated genes names\n",
        "write.csv(upreg_genes,\"Uregulated_genes_names.csv\")"
      ]
    },
    {
      "cell_type": "code",
      "execution_count": 38,
      "metadata": {
        "id": "Z-x96YW5o3HT"
      },
      "outputs": [],
      "source": [
        "write.csv(dnreg_genes,\"Downregulated_genes_names.csv\")"
      ]
    },
    {
      "cell_type": "code",
      "execution_count": 39,
      "metadata": {
        "id": "nz-isDK3pAbW",
        "colab": {
          "base_uri": "https://localhost:8080/"
        },
        "outputId": "3e64fff6-c8e9-4c32-f6bd-9ac25b26db32"
      },
      "outputs": [
        {
          "output_type": "stream",
          "name": "stdout",
          "text": [
            "[1] \"I need about  1 minute to finish complete  Enrichment analysis GO[BP,MF,CC] and Pathways... \"\n",
            "[1] \"GO Enrichment Analysis BP completed....done\"\n",
            "[1] \"GO Enrichment Analysis MF completed....done\"\n",
            "[1] \"GO Enrichment Analysis CC completed....done\"\n",
            "[1] \"Pathway Enrichment Analysis completed....done\"\n",
            "[1] \"I need about  1 minute to finish complete  Enrichment analysis GO[BP,MF,CC] and Pathways... \"\n",
            "[1] \"GO Enrichment Analysis BP completed....done\"\n",
            "[1] \"GO Enrichment Analysis MF completed....done\"\n",
            "[1] \"GO Enrichment Analysis CC completed....done\"\n",
            "[1] \"Pathway Enrichment Analysis completed....done\"\n"
          ]
        }
      ],
      "source": [
        "# perform functional enrichment analysis for the upreglated and the downregulated genes using one of TCGAbiolinks functions\n",
        "\n",
        "\n",
        "upreg_genes_EA <- TCGAanalyze_EAcomplete(TFname = \"Upregulated_genes\",  upreg_genes)\n",
        "  dnreg_genes_EA <- TCGAanalyze_EAcomplete(TFname = \"Downregulated_genes\", dnreg_genes)"
      ]
    },
    {
      "cell_type": "code",
      "execution_count": 40,
      "metadata": {
        "id": "wJcAf9wHpD0l",
        "colab": {
          "base_uri": "https://localhost:8080/",
          "height": 34
        },
        "outputId": "7b9741ed-ae10-41f4-e91d-8aaebe130e76"
      },
      "outputs": [
        {
          "output_type": "display_data",
          "data": {
            "text/html": [
              "<strong>pdf:</strong> 2"
            ],
            "text/markdown": "**pdf:** 2",
            "text/latex": "\\textbf{pdf:} 2",
            "text/plain": [
              "pdf \n",
              "  2 "
            ]
          },
          "metadata": {}
        }
      ],
      "source": [
        "# visiualization of the upregulated genes enriched pathways\n",
        " TCGAvisualize_EAbarplot(tf= rownames(upreg_genes_EA$ResBP),\n",
        "           GOBPTab = upreg_genes_EA$ResBP,\n",
        "           GOCCTab = upreg_genes_EA$ResCC,\n",
        "           PathTab = upreg_genes_EA$ResPathway,\n",
        "           nRGTab = upreg_genes_EA$ResRG,\n",
        "           nBar= 10,\n",
        "           text.size = 1,\n",
        "           fig.width = 20,\n",
        "           fig.height = 12)\n",
        "\n",
        "# the result was saved to  : \"https://github.com/Mariam000v/hackbio-cancer-internship/blob/main/upregulated%20genes%20-EA-result.pdf\"\n"
      ]
    },
    {
      "cell_type": "code",
      "execution_count": 41,
      "metadata": {
        "id": "tfQxDebMpLZT",
        "colab": {
          "base_uri": "https://localhost:8080/",
          "height": 34
        },
        "outputId": "434a875f-2c39-421e-e895-3e03a07a266a"
      },
      "outputs": [
        {
          "output_type": "display_data",
          "data": {
            "text/html": [
              "<strong>pdf:</strong> 2"
            ],
            "text/markdown": "**pdf:** 2",
            "text/latex": "\\textbf{pdf:} 2",
            "text/plain": [
              "pdf \n",
              "  2 "
            ]
          },
          "metadata": {}
        }
      ],
      "source": [
        "# visiualization of the downregulated genes enriched pathways\n",
        " TCGAvisualize_EAbarplot(tf= rownames(dnreg_genes_EA$ResBP),\n",
        "           GOBPTab = dnreg_genes_EA$ResBP,\n",
        "           GOCCTab = dnreg_genes_EA$ResCC,\n",
        "           PathTab = dnreg_genes_EA$ResPathway,\n",
        "           nRGTab = dnreg_genes_EA$ResRG,\n",
        "           nBar= 10,\n",
        "           text.size = 1,\n",
        "           fig.width = 20,\n",
        "           fig.height = 12)\n",
        "\n",
        "       # the result was saved to : \"https://github.com/Mariam000v/hackbio-cancer-internship/blob/main/downregulated-genes-EA-result.pdf\""
      ]
    },
    {
      "cell_type": "markdown",
      "metadata": {
        "id": "2bSc0_46TuG0"
      },
      "source": [
        "##**References**\n",
        "\n",
        "Colaprico A, Silva TC, Olsen C, Garofano L, Cava C, Garolini D, Sabedot T, Malta TM, Pagnotta SM, Castiglioni I, Ceccarelli M, Bontempi G, Noushmehr H (2015). “TCGAbiolinks: An R/Bioconductor package for integrative analysis of TCGA data.” Nucleic Acids Research. doi:10.1093/nar/gkv1507, http://doi.org/10.1093/nar/gkv1507."
      ]
    }
  ],
  "metadata": {
    "colab": {
      "provenance": []
    },
    "kernelspec": {
      "display_name": "R",
      "name": "ir"
    },
    "language_info": {
      "name": "R"
    }
  },
  "nbformat": 4,
  "nbformat_minor": 0
}